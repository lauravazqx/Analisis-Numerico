{
  "nbformat": 4,
  "nbformat_minor": 0,
  "metadata": {
    "colab": {
      "provenance": [],
      "authorship_tag": "ABX9TyNn+KUCy6aqX+J9lDwNTHey",
      "include_colab_link": true
    },
    "kernelspec": {
      "name": "python3",
      "display_name": "Python 3"
    },
    "language_info": {
      "name": "python"
    }
  },
  "cells": [
    {
      "cell_type": "markdown",
      "metadata": {
        "id": "view-in-github",
        "colab_type": "text"
      },
      "source": [
        "<a href=\"https://colab.research.google.com/github/lauravazqx/Analisis-Numerico/blob/main/Proyecto_4.ipynb\" target=\"_parent\"><img src=\"https://colab.research.google.com/assets/colab-badge.svg\" alt=\"Open In Colab\"/></a>"
      ]
    },
    {
      "cell_type": "markdown",
      "source": [
        "# Proyecto 4.\n",
        "\n",
        "## Solución a Sistemas de Ecuaciones No Lineales. -Ceros de Funciones-\n",
        "\n",
        "### Análisis Numérico 2025-1\n",
        "\n",
        "\n",
        "\n",
        "*   Salvador Vazquez Laura Teresa\n",
        "*   Galicia Luna Luis\n",
        "\n"
      ],
      "metadata": {
        "id": "tF6WJnD6EAq4"
      }
    },
    {
      "cell_type": "markdown",
      "source": [
        "##1. Programar los métodos de:\n",
        "\n",
        "a) Bisección\n",
        "\n",
        "b) Secante\n",
        "\n",
        "c) Newton\n",
        "\n",
        "d) Regla Falsa\n",
        "\n",
        "Para cada caso, pedir los datos entrada correspondientes: función punto(s), inicial(es), tolerancia, etc. Devolver la raís si se encuentra, si no desplegar el mensaje donde se diga qué ocurrió. Eentregar los códigos de cada método."
      ],
      "metadata": {
        "id": "IBJoJzH_EmTT"
      }
    },
    {
      "cell_type": "code",
      "execution_count": null,
      "metadata": {
        "id": "tZ42DApsDzlQ",
        "colab": {
          "base_uri": "https://localhost:8080/"
        },
        "outputId": "f44d041b-0b0b-4bab-d28d-aa14998906a3"
      },
      "outputs": [
        {
          "output_type": "stream",
          "name": "stdout",
          "text": [
            "Raíz encontrada: 1.5213797092437744\n"
          ]
        }
      ],
      "source": [
        "# Solución para la pregunta 1 a) Bisección\n",
        "\n",
        "def biseccion(func, a, b, tol, max_iter):\n",
        "    def f(x):\n",
        "        return eval(func)\n",
        "\n",
        "    if f(a) * f(b) > 0:\n",
        "        return \"No hay cambio de signo en el intervalo, intente con otro intervalo.\"\n",
        "\n",
        "    iteraciones = 0\n",
        "    while iteraciones < max_iter:\n",
        "        c = (a + b) / 2\n",
        "        if abs(f(c)) < tol:\n",
        "            return f\"Raíz encontrada: {c}\"\n",
        "\n",
        "        if f(a) * f(c) < 0:\n",
        "            b = c\n",
        "        else:\n",
        "            a = c\n",
        "\n",
        "        iteraciones += 1\n",
        "\n",
        "    return \"No se encontró una raíz dentro del número máximo de iteraciones.\"\n",
        "\n",
        "# Prueba de uso:\n",
        "print(biseccion(\"x**3 - x - 2\", 1, 2, 1e-6, 100))\n"
      ]
    },
    {
      "cell_type": "code",
      "source": [
        "# Solución para la pregunta 1 b) Secante\n",
        "\n",
        "def secante(f, x0, x1, tol, max_iter):\n",
        "    print(\"\\nMétodo de la Secante\")\n",
        "    for i in range(max_iter):\n",
        "        f_x0, f_x1 = f(x0), f(x1)\n",
        "        if abs(f_x1 - f_x0) < 1e-12:\n",
        "            print(\"División por un valor muy pequeño. El método falló.\")\n",
        "            return None\n",
        "\n",
        "        x2 = x1 - f_x1 * (x1 - x0) / (f_x1 - f_x0)\n",
        "        print(f\"Iteración {i+1}: x2 = {x2}, f(x2) = {f(x2)}\")\n",
        "\n",
        "        if abs(x2 - x1) < tol:\n",
        "            print(f\"La raíz encontrada es: {x2}\")\n",
        "            return x2\n",
        "\n",
        "        x0, x1 = x1, x2\n",
        "    print(\"No se alcanzó la convergencia después del número máximo de iteraciones.\")\n",
        "    return None\n",
        "\n",
        "# Prueba de uso\n",
        "func = lambda x: x**3 - 4*x**2 - 7\n",
        "x0 = float(input(\"Introduce x0: \"))\n",
        "x1 = float(input(\"Introduce x1: \"))\n",
        "tol = float(input(\"Introduce la tolerancia: \"))\n",
        "max_iter = int(input(\"Introduce el número máximo de iteraciones: \"))\n",
        "secante(func, x0, x1, tol, max_iter)\n"
      ],
      "metadata": {
        "id": "yBl9WCEXrFO_",
        "colab": {
          "base_uri": "https://localhost:8080/"
        },
        "outputId": "5b9db762-7c9f-4325-9d76-eac88556b3d8"
      },
      "execution_count": 1,
      "outputs": [
        {
          "output_type": "stream",
          "name": "stdout",
          "text": [
            "Introduce x0: 2\n",
            "Introduce x1: 3\n",
            "Introduce la tolerancia: 1\n",
            "Introduce el número máximo de iteraciones: 10\n",
            "\n",
            "Método de la Secante\n",
            "Iteración 1: x2 = -13.0, f(x2) = -2880.0\n",
            "Iteración 2: x2 = 3.089385474860336, f(x2) = -15.691180591068807\n",
            "Iteración 3: x2 = 3.1775259195549306, f(x2) = -15.304250171149391\n",
            "La raíz encontrada es: 3.1775259195549306\n"
          ]
        },
        {
          "output_type": "execute_result",
          "data": {
            "text/plain": [
              "3.1775259195549306"
            ]
          },
          "metadata": {},
          "execution_count": 1
        }
      ]
    },
    {
      "cell_type": "code",
      "source": [
        "# Solución para la pregunta 1 c) Newton\n",
        "\n",
        "def newton(f, df, x0, tol, max_iter):\n",
        "    print(\"\\nMétodo de Newton-Raphson\")\n",
        "    for i in range(max_iter):\n",
        "        f_x0, df_x0 = f(x0), df(x0)\n",
        "        if abs(df_x0) < 1e-12:\n",
        "            print(\"La derivada es demasiado pequeña. El método falló.\")\n",
        "            return None\n",
        "\n",
        "        x1 = x0 - f_x0 / df_x0\n",
        "        print(f\"Iteración {i+1}: x1 = {x1}, f(x1) = {f(x1)}\")\n",
        "\n",
        "        if abs(x1 - x0) < tol:\n",
        "            print(f\"La raíz encontrada es: {x1}\")\n",
        "            return x1\n",
        "\n",
        "        x0 = x1\n",
        "    print(\"No se alcanzó la convergencia después del número máximo de iteraciones.\")\n",
        "    return None\n",
        "\n",
        "# Prueba de uso\n",
        "func = lambda x: x**3 - 4*x**2 - 7\n",
        "dfunc = lambda x: 3*x**2 - 8*x\n",
        "x0 = float(input(\"Introduce x0: \"))\n",
        "tol = float(input(\"Introduce la tolerancia: \"))\n",
        "max_iter = int(input(\"Introduce el número máximo de iteraciones: \"))\n",
        "newton(func, dfunc, x0, tol, max_iter)\n"
      ],
      "metadata": {
        "id": "pi0WCRSPrE9q",
        "colab": {
          "base_uri": "https://localhost:8080/"
        },
        "outputId": "2cd53356-ee22-4591-d2e6-467dd3b82754"
      },
      "execution_count": 2,
      "outputs": [
        {
          "output_type": "stream",
          "name": "stdout",
          "text": [
            "Introduce x0: 1\n",
            "Introduce la tolerancia: 0.3\n",
            "Introduce el número máximo de iteraciones: 50\n",
            "\n",
            "Método de Newton-Raphson\n",
            "Iteración 1: x1 = -1.0, f(x1) = -12.0\n",
            "Iteración 2: x1 = 0.09090909090909083, f(x1) = -7.032306536438767\n",
            "Iteración 3: x1 = -9.919786096256693, f(x1) = -1376.736965651628\n",
            "Iteración 4: x1 = -6.244221487968602, f(x1) = -406.4252894766287\n",
            "Iteración 5: x1 = -3.809438958221173, f(x1) = -120.32921288757623\n",
            "Iteración 6: x1 = -2.1836099097513175, f(x1) = -36.48439342987808\n",
            "Iteración 7: x1 = -1.0353391257462756, f(x1) = -12.397516493270388\n",
            "Iteración 8: x1 = 0.04284695203321265, f(x1) = -7.007264784133148\n",
            "Iteración 9: x1 = -20.733699033931792, f(x1) = -10639.677760241959\n",
            "Iteración 10: x1 = -13.423860476207885, f(x1) = -3146.7801820042096\n",
            "Iteración 11: x1 = -8.567650578298693, f(x1) = -929.5238215021922\n",
            "Iteración 12: x1 = -5.348577472103436, f(x1) = -274.43738246188184\n",
            "Iteración 13: x1 = -3.214712336282019, f(x1) = -81.55954572253897\n",
            "Iteración 14: x1 = -1.7768004959908503, f(x1) = -25.237474716603124\n",
            "Iteración 15: x1 = -0.7112746214453476, f(x1) = -9.383488421056951\n",
            "Iteración 16: x1 = 0.5905535268745821, f(x1) = -8.189056281817468\n",
            "Iteración 17: x1 = -1.6358419785260274, f(x1) = -22.08139466185546\n",
            "Iteración 18: x1 = -0.5900576129185988, f(x1) = -8.598111117298934\n",
            "Iteración 19: x1 = 0.9013844550851553, f(x1) = -9.51760633983323\n",
            "Iteración 20: x1 = -1.0924186778690297, f(x1) = -13.077183308214945\n",
            "Iteración 21: x1 = -0.03091463169923525, f(x1) = -7.003852403372725\n",
            "Iteración 22: x1 = 27.963868766564072, f(x1) = 18732.217125362615\n",
            "Iteración 23: x1 = 19.137172495767683, f(x1) = 5536.7074381982075\n",
            "Iteración 24: x1 = 13.281920206451872, f(x1) = 1630.4180150351895\n",
            "Iteración 25: x1 = 9.427256699309055, f(x1) = 475.3375011638639\n",
            "Iteración 26: x1 = 6.941200795275465, f(x1) = 134.70784397094016\n",
            "Iteración 27: x1 = 5.427819946965647, f(x1) = 35.06533096615135\n",
            "Iteración 28: x1 = 4.647916681775242, f(x1) = 6.997027969111969\n",
            "Iteración 29: x1 = 4.394640273972592, f(x1) = 0.6216335998262821\n",
            "La raíz encontrada es: 4.394640273972592\n"
          ]
        },
        {
          "output_type": "execute_result",
          "data": {
            "text/plain": [
              "4.394640273972592"
            ]
          },
          "metadata": {},
          "execution_count": 2
        }
      ]
    },
    {
      "cell_type": "code",
      "source": [
        "# Solución para la pregunta 1 d) Regla Falsa\n",
        "\n",
        "def regla_falsa(f, a, b, tol, max_iter):\n",
        "    print(\"\\nMétodo de la Regla Falsa\")\n",
        "    if f(a) * f(b) > 0:\n",
        "        print(\"La función no cambia de signo en el intervalo dado. El método falló.\")\n",
        "        return None\n",
        "\n",
        "    for i in range(max_iter):\n",
        "        fa, fb = f(a), f(b)\n",
        "        c = b - fb * (b - a) / (fb - fa)\n",
        "        fc = f(c)\n",
        "        print(f\"Iteración {i+1}: c = {c}, f(c) = {fc}\")\n",
        "\n",
        "        if abs(fc) < tol or abs(b - a) < tol:\n",
        "            print(f\"La raíz encontrada es: {c}\")\n",
        "            return c\n",
        "\n",
        "        if fa * fc < 0:\n",
        "            b = c\n",
        "        else:\n",
        "            a = c\n",
        "\n",
        "    print(\"No se alcanzó la convergencia después del número máximo de iteraciones.\")\n",
        "    return None\n",
        "\n",
        "# Prueba de uso\n",
        "func = lambda x: x**3 - 4*x**2 - 7\n",
        "a = float(input(\"Introduce el extremo izquierdo del intervalo (a): \"))\n",
        "b = float(input(\"Introduce el extremo derecho del intervalo (b): \"))\n",
        "tol = float(input(\"Introduce la tolerancia: \"))\n",
        "max_iter = int(input(\"Introduce el número máximo de iteraciones: \"))\n",
        "regla_falsa(func, a, b, tol, max_iter)\n"
      ],
      "metadata": {
        "id": "CgZkVxh0rEsm",
        "colab": {
          "base_uri": "https://localhost:8080/"
        },
        "outputId": "23a5b7cc-8c1f-4c43-b229-45fd9288dace"
      },
      "execution_count": 4,
      "outputs": [
        {
          "output_type": "stream",
          "name": "stdout",
          "text": [
            "Introduce el extremo izquierdo del intervalo (a): 3\n",
            "Introduce el extremo derecho del intervalo (b): 5\n",
            "Introduce la tolerancia: 1\n",
            "Introduce el número máximo de iteraciones: 10\n",
            "\n",
            "Método de la Regla Falsa\n",
            "Iteración 1: c = 3.9411764705882355, f(c) = -7.913698351312846\n",
            "Iteración 2: c = 4.26452707479146, f(c) = -2.1892600477705884\n",
            "Iteración 3: c = 4.3442794524202695, f(c) = -0.5024951579459866\n",
            "La raíz encontrada es: 4.3442794524202695\n"
          ]
        },
        {
          "output_type": "execute_result",
          "data": {
            "text/plain": [
              "4.3442794524202695"
            ]
          },
          "metadata": {},
          "execution_count": 4
        }
      ]
    },
    {
      "cell_type": "markdown",
      "source": [
        "##2. Usar el Método de Bisección (programado) para encontrar la solución de las siguientes funciones con una tolerancia de $10^{-5}$.\n",
        "\n",
        "a) $f(x)=x-2^{-x}$, para $0≤x≤1$.\n",
        "\n",
        "b) $f(x)=e^x-x^2+3x-2$, para $0≤x≤1$.\n",
        "\n",
        "c) $f(x)=2xcos(2x)-(x+1)^2$, para $-3 ≤ x ≤ -2 y -1 ≤ x ≤ 0$.\n",
        "\n",
        "d) $f(x)=xcos(x)-2x^2+3x-1$, para $0.2 ≤ x ≤ 0.3 y 1.2 ≤ x ≤ 1.3$.\n"
      ],
      "metadata": {
        "id": "L2HlyGnAFb2H"
      }
    },
    {
      "cell_type": "code",
      "source": [
        "# Solución para la pregunta 2 a)\n",
        "def biseccion(f, a, b, tol, max_iter=1000):\n",
        "    print(f\"\\nMétodo de Bisección en [{a}, {b}] con tolerancia {tol}\")\n",
        "    if f(a) * f(b) > 0:\n",
        "        print(\"La función no cambia de signo en el intervalo dado. El método falló.\")\n",
        "        return None\n",
        "\n",
        "    for i in range(max_iter):\n",
        "        c = (a + b) / 2\n",
        "        fc = f(c)\n",
        "\n",
        "        print(f\"Iteración {i+1}: c = {c}, f(c) = {fc}\")\n",
        "\n",
        "        if abs(fc) < tol or (b - a) / 2 < tol:\n",
        "            print(f\"La raíz encontrada es: {c}\")\n",
        "            return c\n",
        "\n",
        "        if f(a) * fc < 0:\n",
        "            b = c\n",
        "        else:\n",
        "            a = c\n",
        "\n",
        "    print(\"No se alcanzó la convergencia después del número máximo de iteraciones.\")\n",
        "    return None\n",
        "\n",
        "import math\n",
        "func_a = lambda x: x - 2**(-x)\n",
        "biseccion(func_a, 0, 1, 1e-5)\n"
      ],
      "metadata": {
        "id": "MtWoDIcwHpwV",
        "colab": {
          "base_uri": "https://localhost:8080/"
        },
        "outputId": "2759a16c-fca9-4e1e-872e-7388716ddcb5"
      },
      "execution_count": 6,
      "outputs": [
        {
          "output_type": "stream",
          "name": "stdout",
          "text": [
            "\n",
            "Método de Bisección en [0, 1] con tolerancia 1e-05\n",
            "Iteración 1: c = 0.5, f(c) = -0.20710678118654757\n",
            "Iteración 2: c = 0.75, f(c) = 0.1553964424986395\n",
            "Iteración 3: c = 0.625, f(c) = -0.02341977732550482\n",
            "Iteración 4: c = 0.6875, f(c) = 0.066571093963258\n",
            "Iteración 5: c = 0.65625, f(c) = 0.02172452140413339\n",
            "Iteración 6: c = 0.640625, f(c) = -0.0008100080393891318\n",
            "Iteración 7: c = 0.6484375, f(c) = 0.010466610801804\n",
            "Iteración 8: c = 0.64453125, f(c) = 0.004830646247165338\n",
            "Iteración 9: c = 0.642578125, f(c) = 0.0020109061142677964\n",
            "Iteración 10: c = 0.6416015625, f(c) = 0.0006005958893881003\n",
            "Iteración 11: c = 0.64111328125, f(c) = -0.00010466934958675012\n",
            "Iteración 12: c = 0.641357421875, f(c) = 0.00024797244970042875\n",
            "Iteración 13: c = 0.6412353515625, f(c) = 7.165384520102513e-05\n",
            "Iteración 14: c = 0.64117431640625, f(c) = -1.6507178382529908e-05\n",
            "Iteración 15: c = 0.641204833984375, f(c) = 2.7573476858777646e-05\n",
            "Iteración 16: c = 0.6411895751953125, f(c) = 5.533185100881077e-06\n",
            "La raíz encontrada es: 0.6411895751953125\n"
          ]
        },
        {
          "output_type": "execute_result",
          "data": {
            "text/plain": [
              "0.6411895751953125"
            ]
          },
          "metadata": {},
          "execution_count": 6
        }
      ]
    },
    {
      "cell_type": "code",
      "source": [
        "# Solución para la pregunta 2 b)\n",
        "func_b = lambda x: math.exp(x) - x**2 + 3*x - 2\n",
        "biseccion(func_b, 0, 1, 1e-5)\n"
      ],
      "metadata": {
        "colab": {
          "base_uri": "https://localhost:8080/"
        },
        "id": "kAz3cncpkZ3p",
        "outputId": "34575491-c550-4112-abed-7ac96cca8966"
      },
      "execution_count": 7,
      "outputs": [
        {
          "output_type": "stream",
          "name": "stdout",
          "text": [
            "\n",
            "Método de Bisección en [0, 1] con tolerancia 1e-05\n",
            "Iteración 1: c = 0.5, f(c) = 0.8987212707001282\n",
            "Iteración 2: c = 0.25, f(c) = -0.028474583312258606\n",
            "Iteración 3: c = 0.375, f(c) = 0.43936641461820125\n",
            "Iteración 4: c = 0.3125, f(c) = 0.2066816911737961\n",
            "Iteración 5: c = 0.28125, f(c) = 0.0894331962288657\n",
            "Iteración 6: c = 0.265625, f(c) = 0.03056423414263776\n",
            "Iteración 7: c = 0.2578125, f(c) = 0.0010663676901234709\n",
            "Iteración 8: c = 0.25390625, f(c) = -0.013698683712779491\n",
            "Iteración 9: c = 0.255859375, f(c) = -0.006314806791194449\n",
            "Iteración 10: c = 0.2568359375, f(c) = -0.0026238823470838835\n",
            "Iteración 11: c = 0.25732421875, f(c) = -0.0007786731028793792\n",
            "Iteración 12: c = 0.257568359375, f(c) = 0.00014386834061053122\n",
            "Iteración 13: c = 0.2574462890625, f(c) = -0.0003173971182106605\n",
            "Iteración 14: c = 0.25750732421875, f(c) = -8.676307321620058e-05\n",
            "Iteración 15: c = 0.257537841796875, f(c) = 2.8552962574757146e-05\n",
            "Iteración 16: c = 0.2575225830078125, f(c) = -2.910497309893678e-05\n",
            "Iteración 17: c = 0.25753021240234375, f(c) = -2.759847070876731e-07\n",
            "La raíz encontrada es: 0.25753021240234375\n"
          ]
        },
        {
          "output_type": "execute_result",
          "data": {
            "text/plain": [
              "0.25753021240234375"
            ]
          },
          "metadata": {},
          "execution_count": 7
        }
      ]
    },
    {
      "cell_type": "code",
      "source": [
        "# Solución para la pregunta 2 c)\n",
        "\n",
        "func_c = lambda x: 2*x*math.cos(2*x) - (x + 1)**2\n",
        "biseccion(func_c, -3, -2, 1e-5)\n",
        "biseccion(func_c, -1, 0, 1e-5)\n"
      ],
      "metadata": {
        "colab": {
          "base_uri": "https://localhost:8080/"
        },
        "id": "9qmIdG0skZm9",
        "outputId": "82701894-7644-47d8-d2e4-fe289ea4f493"
      },
      "execution_count": 8,
      "outputs": [
        {
          "output_type": "stream",
          "name": "stdout",
          "text": [
            "\n",
            "Método de Bisección en [-3, -2] con tolerancia 1e-05\n",
            "Iteración 1: c = -2.5, f(c) = -3.6683109273161314\n",
            "Iteración 2: c = -2.25, f(c) = -0.6139189025614914\n",
            "Iteración 3: c = -2.125, f(c) = 0.6302468321336194\n",
            "Iteración 4: c = -2.1875, f(c) = 0.03807553173138234\n",
            "Iteración 5: c = -2.21875, f(c) = -0.2808361755159614\n",
            "Iteración 6: c = -2.203125, f(c) = -0.11955681450606104\n",
            "Iteración 7: c = -2.1953125, f(c) = -0.04027851417645412\n",
            "Iteración 8: c = -2.19140625, f(c) = -0.0009851949521679781\n",
            "Iteración 9: c = -2.189453125, f(c) = 0.018574336957665638\n",
            "Iteración 10: c = -2.1904296875, f(c) = 0.008801851379554693\n",
            "Iteración 11: c = -2.19091796875, f(c) = 0.0039101468330970945\n",
            "Iteración 12: c = -2.191162109375, f(c) = 0.0014629304107067753\n",
            "Iteración 13: c = -2.1912841796875, f(c) = 0.00023898132373800784\n",
            "Iteración 14: c = -2.19134521484375, f(c) = -0.00037307841848543966\n",
            "Iteración 15: c = -2.191314697265625, f(c) = -6.704144808034052e-05\n",
            "Iteración 16: c = -2.1912994384765625, f(c) = 8.597171269708603e-05\n",
            "Iteración 17: c = -2.1913070678710938, f(c) = 9.465576019884736e-06\n",
            "La raíz encontrada es: -2.1913070678710938\n",
            "\n",
            "Método de Bisección en [-1, 0] con tolerancia 1e-05\n",
            "Iteración 1: c = -0.5, f(c) = -0.7903023058681398\n",
            "Iteración 2: c = -0.75, f(c) = -0.16860580250155435\n",
            "Iteración 3: c = -0.875, f(c) = 0.29630559738661116\n",
            "Iteración 4: c = -0.8125, f(c) = 0.05288159441877152\n",
            "Iteración 5: c = -0.78125, f(c) = -0.06081442441227872\n",
            "Iteración 6: c = -0.796875, f(c) = -0.004680561239510585\n",
            "Iteración 7: c = -0.8046875, f(c) = 0.023925179716782714\n",
            "Iteración 8: c = -0.80078125, f(c) = 0.009578065853130029\n",
            "Iteración 9: c = -0.798828125, f(c) = 0.0024376411175883322\n",
            "Iteración 10: c = -0.7978515625, f(c) = -0.001124244100798491\n",
            "Iteración 11: c = -0.79833984375, f(c) = 0.0006560032765029825\n",
            "Iteración 12: c = -0.798095703125, f(c) = -0.00023429431751979812\n",
            "Iteración 13: c = -0.7982177734375, f(c) = 0.00021081101531467833\n",
            "Iteración 14: c = -0.79815673828125, f(c) = -1.1752518668105283e-05\n",
            "Iteración 15: c = -0.798187255859375, f(c) = 9.952653162202674e-05\n",
            "Iteración 16: c = -0.7981719970703125, f(c) = 4.388632727788527e-05\n",
            "Iteración 17: c = -0.7981643676757812, f(c) = 1.6066734502141744e-05\n",
            "La raíz encontrada es: -0.7981643676757812\n"
          ]
        },
        {
          "output_type": "execute_result",
          "data": {
            "text/plain": [
              "-0.7981643676757812"
            ]
          },
          "metadata": {},
          "execution_count": 8
        }
      ]
    },
    {
      "cell_type": "code",
      "source": [
        "# Solución para la pregunta 2 d)\n",
        "func_d = lambda x: x*math.cos(x) - 2*x**2 + 3*x - 1\n",
        "biseccion(func_d, 0.2, 0.3, 1e-5)\n",
        "biseccion(func_d, 1.2, 1.3, 1e-5)\n"
      ],
      "metadata": {
        "colab": {
          "base_uri": "https://localhost:8080/"
        },
        "id": "dT1scmU8kZVi",
        "outputId": "9806e53d-2ad8-4307-e52d-90b7d16e7adf"
      },
      "execution_count": 9,
      "outputs": [
        {
          "output_type": "stream",
          "name": "stdout",
          "text": [
            "\n",
            "Método de Bisección en [0.2, 0.3] con tolerancia 1e-05\n",
            "Iteración 1: c = 0.25, f(c) = -0.13277189457233884\n",
            "Iteración 2: c = 0.275, f(c) = -0.06158307065223445\n",
            "Iteración 3: c = 0.2875, f(c) = -0.027112718764180865\n",
            "Iteración 4: c = 0.29374999999999996, f(c) = -0.010160959260874125\n",
            "Iteración 5: c = 0.296875, f(c) = -0.0017562320731198122\n",
            "Iteración 6: c = 0.2984375, f(c) = 0.0024283061844028175\n",
            "Iteración 7: c = 0.29765625, f(c) = 0.0003375236058857922\n",
            "Iteración 8: c = 0.297265625, f(c) = -0.0007089826789341558\n",
            "Iteración 9: c = 0.2974609375, f(c) = -0.00018563663749238124\n",
            "Iteración 10: c = 0.29755859375000004, f(c) = 7.596671024989732e-05\n",
            "Iteración 11: c = 0.29750976562500003, f(c) = -5.48291572699533e-05\n",
            "Iteración 12: c = 0.29753417968750007, f(c) = 1.0570228098139012e-05\n",
            "Iteración 13: c = 0.29752197265625, f(c) = -2.212910168652993e-05\n",
            "Iteración 14: c = 0.29752807617187504, f(c) = -5.779346069045843e-06\n",
            "La raíz encontrada es: 0.29752807617187504\n",
            "\n",
            "Método de Bisección en [1.2, 1.3] con tolerancia 1e-05\n",
            "Iteración 1: c = 1.25, f(c) = 0.019152952994085926\n",
            "Iteración 2: c = 1.275, f(c) = -0.05458535157131106\n",
            "Iteración 3: c = 1.2625, f(c) = -0.017224891725453606\n",
            "Iteración 4: c = 1.25625, f(c) = 0.001086892451567678\n",
            "Iteración 5: c = 1.259375, f(c) = -0.008038288298463758\n",
            "Iteración 6: c = 1.2578125, f(c) = -0.0034680195587299956\n",
            "Iteración 7: c = 1.25703125, f(c) = -0.0011886438975059477\n",
            "Iteración 8: c = 1.2566406250000002, f(c) = -5.039580092436324e-05\n",
            "Iteración 9: c = 1.2564453125000001, f(c) = 0.0005183683068308298\n",
            "Iteración 10: c = 1.2565429687500003, f(c) = 0.0002340162482057373\n",
            "Iteración 11: c = 1.2565917968750002, f(c) = 9.181772243849196e-05\n",
            "Iteración 12: c = 1.2566162109375, f(c) = 2.0712835454794742e-05\n",
            "Iteración 13: c = 1.2566284179687501, f(c) = -1.4841014061239832e-05\n",
            "Iteración 14: c = 1.256622314453125, f(c) = 2.936027865718671e-06\n",
            "La raíz encontrada es: 1.256622314453125\n"
          ]
        },
        {
          "output_type": "execute_result",
          "data": {
            "text/plain": [
              "1.256622314453125"
            ]
          },
          "metadata": {},
          "execution_count": 9
        }
      ]
    },
    {
      "cell_type": "markdown",
      "source": [
        "## 4. Hallar una aproximación a $\\sqrt{3}$ con una tolerancia de $10^{-4}$ usando el algortimo de Bisección. (Hint: considerar $f(x)=x^2-3$)\n",
        "\n",
        "a) Escribir las primeras 5 iteraciones del método.\n",
        "\n",
        "b) Implementando el programa."
      ],
      "metadata": {
        "id": "cq5n8D2mHuFX"
      }
    },
    {
      "cell_type": "code",
      "source": [
        "# Solución para la pregunta  4b)\n",
        "\n",
        "def bisection_method(f, a, b, tol):\n",
        "    \"\"\"\n",
        "    Encuentra la raíz de la función f en el intervalo [a, b] utilizando el método de bisección.\n",
        "\n",
        "    Args:\n",
        "        f (function): La función para la cual encontrar la raíz.\n",
        "        a (float): Extremo izquierdo del intervalo.\n",
        "        b (float): Extremo derecho del intervalo.\n",
        "        tol (float): Tolerancia para el criterio de paro.\n",
        "\n",
        "    Returns:\n",
        "        float: Aproximación a la raíz de la función.\n",
        "    \"\"\"\n",
        "    if f(a) * f(b) >= 0:\n",
        "        raise ValueError(\"El método de bisección no es aplicable, f(a) y f(b) deben tener signos opuestos.\")\n",
        "\n",
        "    iteration = 1\n",
        "    while (b - a) / 2 > tol:\n",
        "        c = (a + b) / 2\n",
        "        print(f\"Iteración {iteration}: a = {a:.5f}, b = {b:.5f}, c = {c:.5f}, f(c) = {f(c):.5f}\")\n",
        "        if f(c) == 0:  # Encontramos la raíz exacta\n",
        "            return c\n",
        "        elif f(a) * f(c) < 0:\n",
        "            b = c\n",
        "        else:\n",
        "            a = c\n",
        "        iteration += 1\n",
        "    return (a + b) / 2\n",
        "\n",
        "# Definición de la función f(x) = x^2 - 3\n",
        "def f(x):\n",
        "    return x**2 - 3\n",
        "\n",
        "# Intervalo inicial [a, b]\n",
        "a = 1\n",
        "b = 2\n",
        "\n",
        "# Tolerancia\n",
        "tolerance = 1e-4\n",
        "\n",
        "# Llamada al método de bisección\n",
        "root = bisection_method(f, a, b, tolerance)\n",
        "print(f\"La aproximación a √3 es {root:.5f}\")\n"
      ],
      "metadata": {
        "id": "6NvK9_okI3eU",
        "colab": {
          "base_uri": "https://localhost:8080/"
        },
        "outputId": "ceb3b3d6-1feb-49fb-e434-518b0f9e2580"
      },
      "execution_count": 10,
      "outputs": [
        {
          "output_type": "stream",
          "name": "stdout",
          "text": [
            "Iteración 1: a = 1.00000, b = 2.00000, c = 1.50000, f(c) = -0.75000\n",
            "Iteración 2: a = 1.50000, b = 2.00000, c = 1.75000, f(c) = 0.06250\n",
            "Iteración 3: a = 1.50000, b = 1.75000, c = 1.62500, f(c) = -0.35938\n",
            "Iteración 4: a = 1.62500, b = 1.75000, c = 1.68750, f(c) = -0.15234\n",
            "Iteración 5: a = 1.68750, b = 1.75000, c = 1.71875, f(c) = -0.04590\n",
            "Iteración 6: a = 1.71875, b = 1.75000, c = 1.73438, f(c) = 0.00806\n",
            "Iteración 7: a = 1.71875, b = 1.73438, c = 1.72656, f(c) = -0.01898\n",
            "Iteración 8: a = 1.72656, b = 1.73438, c = 1.73047, f(c) = -0.00548\n",
            "Iteración 9: a = 1.73047, b = 1.73438, c = 1.73242, f(c) = 0.00129\n",
            "Iteración 10: a = 1.73047, b = 1.73242, c = 1.73145, f(c) = -0.00210\n",
            "Iteración 11: a = 1.73145, b = 1.73242, c = 1.73193, f(c) = -0.00041\n",
            "Iteración 12: a = 1.73193, b = 1.73242, c = 1.73218, f(c) = 0.00044\n",
            "Iteración 13: a = 1.73193, b = 1.73218, c = 1.73206, f(c) = 0.00002\n",
            "La aproximación a √3 es 1.73199\n"
          ]
        }
      ]
    },
    {
      "cell_type": "markdown",
      "source": [
        "## 7. Usar la iteración de Punto Fijo para mostrar que la función $g(x)=π+0.5sin(\\frac{π}{2})$ tiene un punto fijo en el intervalo $[0, 2π]$ con una tolerancia de $10^{-2}$. Programar el ejemplo en específico con una gráfica de la función."
      ],
      "metadata": {
        "id": "qJzhMJb5I616"
      }
    },
    {
      "cell_type": "code",
      "source": [
        "# Solución para la pregunta 7\n",
        "\n",
        "import numpy as np\n",
        "import matplotlib.pyplot as plt\n",
        "import math\n",
        "\n",
        "\n",
        "#Definir funcion g(x)\n",
        "def g(x):\n",
        "    return x + 0.5 * np.sin(x / 2)\n",
        "\n",
        "#Metodo de Punto Fijo\n",
        "def punto_fijo(g, x0, tol=1e-2, max_iter=100):\n",
        "    x_n = x0\n",
        "    iteraciones = [x_n]\n",
        "\n",
        "    for _ in range(max_iter):\n",
        "        x_n1 = g(x_n)  #Siguiente valor\n",
        "        iteraciones.append(x_n1)\n",
        "\n",
        "        if abs(x_n1 - x_n) < tol:  #Condicion de convergencia\n",
        "            break\n",
        "\n",
        "        x_n = x_n1\n",
        "\n",
        "    return x_n1, iteraciones\n",
        "\n",
        "#Intervalo [0, 2pi] y valor inicial x0\n",
        "x0 = np.pi  #Valor inicial\n",
        "x_fijo, iteraciones = punto_fijo(g, x0)\n",
        "\n",
        "#Mostrar punto fijo\n",
        "print(f\"Punto fijo: {x_fijo}\")\n",
        "\n",
        "#Graficar\n",
        "x_vals = np.linspace(0, 2 * np.pi, 400)\n",
        "y_vals = g(x_vals)\n",
        "\n",
        "plt.figure(figsize=(8, 6))\n",
        "\n",
        "#Grafico de g(x)\n",
        "plt.plot(x_vals, y_vals, label=r'$g(x)$', color='b')\n",
        "\n",
        "#Linea y=x\n",
        "plt.plot(x_vals, x_vals, label=r'$y=x$', color='r', linestyle='--')\n",
        "\n",
        "#Mostrar grafico\n",
        "plt.xlabel('x')\n",
        "plt.ylabel('g(x)')\n",
        "plt.legend()\n",
        "plt.grid(True)\n",
        "plt.show()\n"
      ],
      "metadata": {
        "id": "wxCvWurGJ0Za",
        "colab": {
          "base_uri": "https://localhost:8080/",
          "height": 559
        },
        "outputId": "b6918fb9-951b-4f25-e611-e25a6e14b103"
      },
      "execution_count": 11,
      "outputs": [
        {
          "output_type": "stream",
          "name": "stdout",
          "text": [
            "Punto fijo: 6.257920076166325\n"
          ]
        },
        {
          "output_type": "display_data",
          "data": {
            "text/plain": [
              "<Figure size 800x600 with 1 Axes>"
            ],
            "image/png": "[encoded data removed]"
          },
          "metadata": {}
        }
      ]
    },
    {
      "cell_type": "markdown",
      "source": [
        "## 9. Usar el Método de Newton para hallar la solución de las siguientes funciones con una tolerancia de \\( 10^{-5} \\):\n",
        "\n",
        "1. $f(x) = e^x + 2 - x + 2 \\cos(x) - 6 = 0$ para  $1 \\leq x \\leq 2 $.\n",
        "2. $f(x) = 2x \\cos(2x) - (x - 2)^2 = 0 $ para $2 \\leq x \\leq 3$ y $3 \\leq x \\leq 4$.\n",
        "3. $f(x) = e^x - 3x^2 = 0 $ para $0 \\leq x \\leq 1$ y $ 3 \\leq x \\leq 5.$\n"
      ],
      "metadata": {
        "id": "601XcBcISALj"
      }
    },
    {
      "cell_type": "code",
      "source": [
        "# Solución para la pregunta 9.\n",
        "\n",
        "import numpy as np\n",
        "\n",
        "# Definir la función y su derivada para cada caso\n",
        "\n",
        "# 1. f(x) = e^x + 2 - x + 2 * cos(x) - 6\n",
        "def f1(x):\n",
        "    return np.exp(x) + 2 - x + 2 * np.cos(x) - 6\n",
        "\n",
        "def df1(x):\n",
        "    return np.exp(x) - 1 - 2 * np.sin(x)\n",
        "\n",
        "# 2. f(x) = 2x * cos(2x) - (x - 2)^2\n",
        "def f2(x):\n",
        "    return 2 * x * np.cos(2 * x) - (x - 2)**2\n",
        "\n",
        "def df2(x):\n",
        "    return 2 * np.cos(2 * x) - 4 * x * np.sin(2 * x) - 2 * (x - 2)\n",
        "\n",
        "# 3. f(x) = e^x - 3x^2\n",
        "def f3(x):\n",
        "    return np.exp(x) - 3 * x**2\n",
        "\n",
        "def df3(x):\n",
        "    return np.exp(x) - 6 * x\n",
        "\n",
        "# Método de Newton\n",
        "def newton_method(f, df, x0, tol=1e-5, max_iter=1000):\n",
        "    x = x0\n",
        "    for i in range(max_iter):\n",
        "        x_new = x - f(x) / df(x)\n",
        "        if abs(x_new - x) < tol:\n",
        "            return x_new, i + 1  # Devolver el valor de la raíz y el número de iteraciones\n",
        "        x = x_new\n",
        "    return None, max_iter  # Si no converge, devolver None\n",
        "\n",
        "# Soluciones para cada caso\n",
        "\n",
        "# 1. f(x) = e^x + 2 - x + 2 * cos(x) - 6 para 1 <= x <= 2\n",
        "x0_1 = 1.5  # Valor inicial en el intervalo [1, 2]\n",
        "root1, iterations1 = newton_method(f1, df1, x0_1)\n",
        "print(f\"Solución 1: x = {root1:.6f}, Iteraciones = {iterations1}\")\n",
        "\n",
        "# 2. f(x) = 2x * cos(2x) - (x - 2)^2 para 2 <= x <= 3 y 3 <= x <= 4\n",
        "x0_2 = 2.5  # Valor inicial en el intervalo [2, 3]\n",
        "root2, iterations2 = newton_method(f2, df2, x0_2)\n",
        "print(f\"Solución 2: x = {root2:.6f}, Iteraciones = {iterations2}\")\n",
        "\n",
        "# 3. f(x) = e^x - 3x^2 para 0 <= x <= 1 y 3 <= x <= 5\n",
        "x0_3 = 0.5  # Valor inicial en el intervalo [0, 1]\n",
        "root3, iterations3 = newton_method(f3, df3, x0_3)\n",
        "print(f\"Solución 3: x = {root3:.6f}, Iteraciones = {iterations3}\")\n"
      ],
      "metadata": {
        "colab": {
          "base_uri": "https://localhost:8080/"
        },
        "id": "jGtcPayWTgSU",
        "outputId": "2b948012-6fab-4b32-a057-5f5c8b7ed91f"
      },
      "execution_count": 2,
      "outputs": [
        {
          "output_type": "stream",
          "name": "stdout",
          "text": [
            "Solución 1: x = 1.861890, Iteraciones = 5\n",
            "Solución 2: x = 2.370687, Iteraciones = 3\n",
            "Solución 3: x = 0.910008, Iteraciones = 5\n"
          ]
        }
      ]
    },
    {
      "cell_type": "markdown",
      "source": [
        "## 10. Calcular las raíces del ejercicio 9 con el método de Secante."
      ],
      "metadata": {
        "id": "aGXtEK3GUKsa"
      }
    },
    {
      "cell_type": "code",
      "source": [
        "# Solución para la pregunta 10.\n",
        "\n",
        "import numpy as np\n",
        "\n",
        "# Definir la función para cada caso\n",
        "\n",
        "# 1. f(x) = e^x + 2 - x + 2 * cos(x) - 6\n",
        "def f1(x):\n",
        "    return np.exp(x) + 2 - x + 2 * np.cos(x) - 6\n",
        "\n",
        "# 2. f(x) = 2x * cos(2x) - (x - 2)^2\n",
        "def f2(x):\n",
        "    return 2 * x * np.cos(2 * x) - (x - 2)**2\n",
        "\n",
        "# 3. f(x) = e^x - 3x^2\n",
        "def f3(x):\n",
        "    return np.exp(x) - 3 * x**2\n",
        "\n",
        "# Método de la Secante\n",
        "def secant_method(f, x0, x1, tol=1e-5, max_iter=1000):\n",
        "    for i in range(max_iter):\n",
        "        # Calcula el valor de la función en los dos puntos\n",
        "        f_x0 = f(x0)\n",
        "        f_x1 = f(x1)\n",
        "\n",
        "        # Calcula el nuevo valor de x usando la fórmula de la secante\n",
        "        if f_x1 - f_x0 == 0:\n",
        "            return None, i + 1  # Evitar división por cero\n",
        "        x2 = x1 - f_x1 * (x1 - x0) / (f_x1 - f_x0)\n",
        "\n",
        "        # Si la diferencia entre x2 y x1 es menor que la tolerancia, convergió\n",
        "        if abs(x2 - x1) < tol:\n",
        "            return x2, i + 1\n",
        "\n",
        "        # Actualiza los valores para la siguiente iteración\n",
        "        x0, x1 = x1, x2\n",
        "\n",
        "    return None, max_iter  # Si no converge, devolver None\n",
        "\n",
        "# Soluciones para cada caso\n",
        "\n",
        "# 1. f(x) = e^x + 2 - x + 2 * cos(x) - 6 para 1 <= x <= 2\n",
        "x0_1 = 1.5  # Valor inicial en el intervalo [1, 2]\n",
        "x1_1 = 1.7  # Segundo valor inicial en el intervalo [1, 2]\n",
        "root1, iterations1 = secant_method(f1, x0_1, x1_1)\n",
        "print(f\"Solución 1: x = {root1:.6f}, Iteraciones = {iterations1}\")\n",
        "\n",
        "# 2. f(x) = 2x * cos(2x) - (x - 2)^2 para 2 <= x <= 3 y 3 <= x <= 4\n",
        "x0_2 = 2.5  # Valor inicial en el intervalo [2, 3]\n",
        "x1_2 = 2.7  # Segundo valor inicial en el intervalo [2, 3]\n",
        "root2, iterations2 = secant_method(f2, x0_2, x1_2)\n",
        "print(f\"Solución 2: x = {root2:.6f}, Iteraciones = {iterations2}\")\n",
        "\n",
        "# 3. f(x) = e^x - 3x^2 para 0 <= x <= 1 y 3 <= x <= 5\n",
        "x0_3 = 0.5  # Valor inicial en el intervalo [0, 1]\n",
        "x1_3 = 0.6  # Segundo valor inicial en el intervalo [0, 1]\n",
        "root3, iterations3 = secant_method(f3, x0_3, x1_3)\n",
        "print(f\"Solución 3: x = {root3:.6f}, Iteraciones = {iterations3}\")\n"
      ],
      "metadata": {
        "colab": {
          "base_uri": "https://localhost:8080/"
        },
        "id": "z7CwgL_2UUS2",
        "outputId": "fc0568fc-b49c-4e70-b02d-ed3873bd41f9"
      },
      "execution_count": 3,
      "outputs": [
        {
          "output_type": "stream",
          "name": "stdout",
          "text": [
            "Solución 1: x = 1.861890, Iteraciones = 6\n",
            "Solución 2: x = 2.370687, Iteraciones = 4\n",
            "Solución 3: x = 0.910008, Iteraciones = 6\n"
          ]
        }
      ]
    },
    {
      "cell_type": "markdown",
      "source": [
        "## 11. El siguiente polinomio\n",
        "$P(x) = 230x^4 + 18x^3 + 9x^2 - 221x - 9$\n",
        "\n",
        "tiene dos ceros, uno en $[-1, 0]$ y otro en $[0, 1]$, hallarlos con una tolerancia de $10^{-6}$ para\n",
        "\n",
        "a) Método de Secante\n",
        "\n",
        "b) Método de Newton\n",
        "\n",
        "Usando los programas de cada método.c\n"
      ],
      "metadata": {
        "id": "Kgd6PgNaUzlP"
      }
    },
    {
      "cell_type": "code",
      "source": [
        "# Solución para la pregunta 11.\n",
        "import numpy as np\n",
        "\n",
        "# Definimos el polinomio P(x) y su derivada\n",
        "def P(x):\n",
        "    return 230 * x**4 + 18 * x**3 + 9 * x**2 - 221 * x - 9\n",
        "\n",
        "def P_prime(x):\n",
        "    return 920 * x**3 + 54 * x**2 + 18 * x - 221\n",
        "\n",
        "# Método de Secante\n",
        "def secant_method(f, x0, x1, tol=1e-6, max_iter=1000):\n",
        "    for i in range(max_iter):\n",
        "        # Calcula el valor de la función en los dos puntos\n",
        "        f_x0 = f(x0)\n",
        "        f_x1 = f(x1)\n",
        "\n",
        "        # Calcula el nuevo valor de x usando la fórmula de la secante\n",
        "        if f_x1 - f_x0 == 0:\n",
        "            return None, i + 1  # Evitar división por cero\n",
        "        x2 = x1 - f_x1 * (x1 - x0) / (f_x1 - f_x0)\n",
        "\n",
        "        # Si la diferencia entre x2 y x1 es menor que la tolerancia, convergió\n",
        "        if abs(x2 - x1) < tol:\n",
        "            return x2, i + 1\n",
        "\n",
        "        # Actualiza los valores para la siguiente iteración\n",
        "        x0, x1 = x1, x2\n",
        "\n",
        "    return None, max_iter  # Si no converge, devolver None\n",
        "\n",
        "# Método de Newton\n",
        "def newton_method(f, f_prime, x0, tol=1e-6, max_iter=1000):\n",
        "    for i in range(max_iter):\n",
        "        # Calcula el valor de la función y su derivada en x0\n",
        "        f_x0 = f(x0)\n",
        "        f_prime_x0 = f_prime(x0)\n",
        "\n",
        "        # Si la derivada es 0, evitar división por cero\n",
        "        if f_prime_x0 == 0:\n",
        "            return None, i + 1\n",
        "\n",
        "        # Calcula el siguiente valor de x usando la fórmula de Newton\n",
        "        x1 = x0 - f_x0 / f_prime_x0\n",
        "\n",
        "        # Si la diferencia entre x1 y x0 es menor que la tolerancia, convergió\n",
        "        if abs(x1 - x0) < tol:\n",
        "            return x1, i + 1\n",
        "\n",
        "        # Actualiza x0 para la siguiente iteración\n",
        "        x0 = x1\n",
        "\n",
        "    return None, max_iter  # Si no converge, devolver None\n",
        "\n",
        "# Intervalos dados en el problema\n",
        "# Primer cero en [-1, 0]\n",
        "x0_secante_1 = -1.0  # Valor inicial en el intervalo [-1, 0]\n",
        "x1_secante_1 = -0.5  # Segundo valor inicial en el intervalo [-1, 0]\n",
        "\n",
        "x0_newton_1 = -1.0  # Valor inicial en el intervalo [-1, 0]\n",
        "\n",
        "# Segundo cero en [0, 1]\n",
        "x0_secante_2 = 0.5  # Valor inicial en el intervalo [0, 1]\n",
        "x1_secante_2 = 0.75  # Segundo valor inicial en el intervalo [0, 1]\n",
        "\n",
        "x0_newton_2 = 0.5  # Valor inicial en el intervalo [0, 1]\n",
        "\n",
        "# Método de la Secante - Primer intervalo [-1, 0]\n",
        "root_secante_1, iterations_secante_1 = secant_method(P, x0_secante_1, x1_secante_1)\n",
        "print(f\"Raíz con el Método de Secante (Intervalo [-1, 0]): x = {root_secante_1:.6f}, Iteraciones = {iterations_secante_1}\")\n",
        "\n",
        "# Método de la Secante - Segundo intervalo [0, 1]\n",
        "root_secante_2, iterations_secante_2 = secant_method(P, x0_secante_2, x1_secante_2)\n",
        "print(f\"Raíz con el Método de Secante (Intervalo [0, 1]): x = {root_secante_2:.6f}, Iteraciones = {iterations_secante_2}\")\n",
        "\n",
        "# Método de Newton - Primer intervalo [-1, 0]\n",
        "root_newton_1, iterations_newton_1 = newton_method(P, P_prime, x0_newton_1)\n",
        "print(f\"Raíz con el Método de Newton (Intervalo [-1, 0]): x = {root_newton_1:.6f}, Iteraciones = {iterations_newton_1}\")\n",
        "\n",
        "# Método de Newton - Segundo intervalo [0, 1]\n",
        "root_newton_2, iterations_newton_2 = newton_method(P, P_prime, x0_newton_2)\n",
        "print(f\"Raíz con el Método de Newton (Intervalo [0, 1]): x = {root_newton_2:.6f}, Iteraciones = {iterations_newton_2}\")\n",
        "\n"
      ],
      "metadata": {
        "colab": {
          "base_uri": "https://localhost:8080/"
        },
        "id": "kfvoQ8wVWAyn",
        "outputId": "da505694-d163-45e2-ffab-21bbcedc76e4"
      },
      "execution_count": 4,
      "outputs": [
        {
          "output_type": "stream",
          "name": "stdout",
          "text": [
            "Raíz con el Método de Secante (Intervalo [-1, 0]): x = -0.040659, Iteraciones = 6\n",
            "Raíz con el Método de Secante (Intervalo [0, 1]): x = 0.962398, Iteraciones = 10\n",
            "Raíz con el Método de Newton (Intervalo [-1, 0]): x = -0.040659, Iteraciones = 6\n",
            "Raíz con el Método de Newton (Intervalo [0, 1]): x = -0.040659, Iteraciones = 6\n"
          ]
        }
      ]
    },
    {
      "cell_type": "markdown",
      "source": [
        "## 12. El control de un determinado sistema eléctrico conduce a la resolución del siguiente sistema de ecuaciones no lineales:\n",
        "\n",
        "$I \\cdot \\cos(\\varphi) = \\frac{2}{3}$\n",
        "\n",
        "$\n",
        "\\cos(\\delta) + 0.91 \\cdot I \\cdot \\sin(\\varphi + \\delta) = 1.22\n",
        "$\n",
        "\n",
        "$\n",
        "0.76 \\cdot I \\cdot \\cos(\\varphi + \\delta) = \\sin(\\delta)\n",
        "$\n",
        "\n",
        "Sabiendo que por consideraciones técnicas los ángulos $\\varphi $ y $ \\delta $ deben estar comprendidos entre $0 $ y $ \\frac{\\pi}{2} $ y que la densidad de corriente $ I $ debe ser positiva, se pide resolver mediante el método de Newton el sistema partiendo de los datos iniciales siguientes:\n",
        "\n",
        "\n",
        "a) $I = 1, \\varphi = 0.1 $ y $ \\delta = 0.1 $.\n",
        "\n",
        "b) $ I = \\varphi = \\delta = 1 $.\n",
        "\n",
        "\n",
        "Comentar la admisibilidad de las soluciones encontradas.\n",
        "\n"
      ],
      "metadata": {
        "id": "1qgySX4IaDoP"
      }
    },
    {
      "cell_type": "code",
      "source": [
        "# Solución para la pregunta 12.\n",
        "\n",
        "import numpy as np\n",
        "from scipy.optimize import fsolve\n",
        "\n",
        "# Definir el sistema de ecuaciones no lineales\n",
        "def sistema_ecuaciones(vars):\n",
        "    I, phi, delta = vars\n",
        "    eq1 = I * np.cos(phi) - 2/3\n",
        "    eq2 = np.cos(delta) + 0.91 * I * np.sin(phi + delta) - 1.22\n",
        "    eq3 = 0.76 * I * np.cos(phi + delta) - np.sin(delta)\n",
        "    return [eq1, eq2, eq3]\n",
        "\n",
        "# Definir el Jacobiano (matriz de derivadas parciales)\n",
        "def jacobiano(vars):\n",
        "    I, phi, delta = vars\n",
        "    dI = np.cos(phi)\n",
        "    dphi = -I * np.sin(phi)\n",
        "    ddelta = 0\n",
        "    eq1_dI = np.cos(phi)\n",
        "    eq1_dphi = -I * np.sin(phi)\n",
        "    eq1_ddelta = 0\n",
        "    eq2_dI = 0.91 * np.sin(phi + delta)\n",
        "    eq2_dphi = 0.91 * I * np.cos(phi + delta)\n",
        "    eq2_ddelta = -np.sin(delta) + 0.91 * I * np.cos(phi + delta)\n",
        "    eq3_dI = 0.76 * np.cos(phi + delta)\n",
        "    eq3_dphi = -0.76 * I * np.sin(phi + delta)\n",
        "    eq3_ddelta = 0.76 * I * np.cos(phi + delta) - np.cos(delta)\n",
        "\n",
        "    return np.array([[eq1_dI, eq1_dphi, eq1_ddelta],\n",
        "                     [eq2_dI, eq2_dphi, eq2_ddelta],\n",
        "                     [eq3_dI, eq3_dphi, eq3_ddelta]])\n",
        "\n",
        "# Condiciones iniciales para el caso a)\n",
        "x0_a = np.array([1.0, 0.1, 0.1])\n",
        "\n",
        "# Condiciones iniciales para el caso b)\n",
        "x0_b = np.array([1.0, 1.0, 1.0])\n",
        "\n",
        "# Resolviendo el sistema para el caso a)\n",
        "sol_a = fsolve(sistema_ecuaciones, x0_a)\n",
        "# Resolviendo el sistema para el caso b)\n",
        "sol_b = fsolve(sistema_ecuaciones, x0_b)\n",
        "\n",
        "# Mostrar las soluciones\n",
        "print(\"Solución para a) [I=1, φ=0.1, δ=0.1]:\")\n",
        "print(f\"I = {sol_a[0]}, φ = {sol_a[1]}, δ = {sol_a[2]}\")\n",
        "\n",
        "print(\"\\nSolución para b) [I=1, φ=1, δ=1]:\")\n",
        "print(f\"I = {sol_b[0]}, φ = {sol_b[1]}, δ = {sol_b[2]}\")\n"
      ],
      "metadata": {
        "colab": {
          "base_uri": "https://localhost:8080/"
        },
        "id": "hArFAjxGbU8S",
        "outputId": "d7c3330c-4cb1-4efa-c453-2e345086c32e"
      },
      "execution_count": 5,
      "outputs": [
        {
          "output_type": "stream",
          "name": "stdout",
          "text": [
            "Solución para a) [I=1, φ=0.1, δ=0.1]:\n",
            "I = 0.6701311610817449, φ = 0.1017284215331269, δ = 0.44894138648323595\n",
            "\n",
            "Solución para b) [I=1, φ=1, δ=1]:\n",
            "I = 0.6701311610830863, φ = 0.10172842151909467, δ = 0.4489413864859813\n"
          ]
        }
      ]
    },
    {
      "cell_type": "markdown",
      "source": [
        "## 13. Resolver los siguientes sistemas programando el Método de Newton para varias variables\n",
        "\n",
        "a) Puntos iniciales $x_1 = 15$ y $x_2 = -2$\n",
        "\n",
        "$\n",
        "x_1 + x_2 \\left( x_2 \\left( 5 - x_2 \\right) - 2 \\right) = 13\n",
        "$\n",
        "\n",
        "$\n",
        "x_1 + x_2 \\left( x_2 \\left( 1 + x_2 \\right) + 14 \\right) = 29\n",
        "$\n",
        "\n",
        "b) Puntos iniciales $x_1 = \\frac{1 + \\sqrt{3}}{2}$, $x_2 = \\frac{1 - \\sqrt{3}}{2}$ y $x_3 = \\sqrt{3}$\n",
        "\n",
        "$\n",
        "x_1^2 + x_2^2 + x_3^2 = 5\n",
        "$\n",
        "\n",
        "$\n",
        "x_1 + x_2 = 1\n",
        "$\n",
        "$\n",
        "x_1 + x_3 = 3\n",
        "$\n"
      ],
      "metadata": {
        "id": "qkvxwLhib8Uq"
      }
    },
    {
      "cell_type": "code",
      "source": [
        "# Solueción para la preunta 13.\n",
        "\n",
        "import numpy as np\n",
        "from scipy.optimize import fsolve\n",
        "\n",
        "# Definir el sistema de ecuaciones para el caso a)\n",
        "def sistema_a(vars):\n",
        "    x1, x2 = vars\n",
        "    eq1 = x1 + x2 * (x2 * (5 - x2) - 2) - 13\n",
        "    eq2 = x1 + x2 * (x2 * (1 + x2) + 14) - 29\n",
        "    return [eq1, eq2]\n",
        "\n",
        "# Definir el sistema de ecuaciones para el caso b)\n",
        "def sistema_b(vars):\n",
        "    x1, x2, x3 = vars\n",
        "    eq1 = x1**2 + x2**2 + x3**2 - 5\n",
        "    eq2 = x1 + x2 - 1\n",
        "    eq3 = x1 + x3 - 3\n",
        "    return [eq1, eq2, eq3]\n",
        "\n",
        "# Puntos iniciales para el caso a)\n",
        "x0_a = np.array([15, -2])\n",
        "\n",
        "# Puntos iniciales para el caso b)\n",
        "x0_b = np.array([(1 + np.sqrt(3)) / 2, (1 - np.sqrt(3)) / 2, np.sqrt(3)])\n",
        "\n",
        "# Resolviendo el sistema para el caso a)\n",
        "sol_a = fsolve(sistema_a, x0_a)\n",
        "\n",
        "# Resolviendo el sistema para el caso b)\n",
        "sol_b = fsolve(sistema_b, x0_b)\n",
        "\n",
        "# Mostrar las soluciones\n",
        "print(\"Solución para el caso a) [x1=15, x2=-2]:\")\n",
        "print(f\"x1 = {sol_a[0]}, x2 = {sol_a[1]}\")\n",
        "\n",
        "print(\"\\nSolución para el caso b) [x1=(1+√3)/2, x2=(1-√3)/2, x3=√3]:\")\n",
        "print(f\"x1 = {sol_b[0]}, x2 = {sol_b[1]}, x3 = {sol_b[2]}\")\n"
      ],
      "metadata": {
        "colab": {
          "base_uri": "https://localhost:8080/"
        },
        "id": "KuIAOM6dcsAj",
        "outputId": "b3b47222-a796-48fd-ebe0-ddb31782153e"
      },
      "execution_count": 6,
      "outputs": [
        {
          "output_type": "stream",
          "name": "stdout",
          "text": [
            "Solución para el caso a) [x1=15, x2=-2]:\n",
            "x1 = 10.265301021098466, x2 = 1.1396805819963343\n",
            "\n",
            "Solución para el caso b) [x1=(1+√3)/2, x2=(1-√3)/2, x3=√3]:\n",
            "x1 = 0.9999999999999978, x2 = 2.2137894900806485e-15, x3 = 2.000000000000002\n"
          ]
        }
      ]
    },
    {
      "cell_type": "markdown",
      "source": [
        "## 14. Para la función del ejercicio 13. b) resolverlo por la iteración de punto fijo."
      ],
      "metadata": {
        "id": "Pdj32zYKc3B3"
      }
    },
    {
      "cell_type": "code",
      "source": [
        "# Solución para la pregunta 14.\n",
        "\n",
        "import numpy as np\n",
        "\n",
        "# Funciones de punto fijo para el sistema del inciso b\n",
        "def g1(x2, x3):\n",
        "    return np.sqrt(5 - x2**2 - x3**2)\n",
        "\n",
        "def g2(x1):\n",
        "    return 1 - x1\n",
        "\n",
        "def g3(x1):\n",
        "    return 3 - x1\n",
        "\n",
        "# Método de iteración de punto fijo\n",
        "def punto_fijo(g1, g2, g3, x0, tol=1e-6, max_iter=100):\n",
        "    x1, x2, x3 = x0\n",
        "    for _ in range(max_iter):\n",
        "        # Calculamos las nuevas aproximaciones\n",
        "        x1_new = g1(x2, x3)\n",
        "        x2_new = g2(x1_new)\n",
        "        x3_new = g3(x1_new)\n",
        "\n",
        "        # Verificamos si las soluciones han convergido\n",
        "        if np.allclose([x1_new, x2_new, x3_new], [x1, x2, x3], atol=tol):\n",
        "            return x1_new, x2_new, x3_new\n",
        "\n",
        "        # Actualizamos los valores para la siguiente iteración\n",
        "        x1, x2, x3 = x1_new, x2_new, x3_new\n",
        "\n",
        "    raise ValueError(\"No se alcanzó la convergencia después de 100 iteraciones\")\n",
        "\n",
        "# Puntos iniciales para el sistema b)\n",
        "x0_b = np.array([(1 + np.sqrt(3)) / 2, (1 - np.sqrt(3)) / 2, np.sqrt(3)])\n",
        "\n",
        "# Resolviendo el sistema por iteración de punto fijo\n",
        "sol_b = punto_fijo(g1, g2, g3, x0_b)\n",
        "\n",
        "# Mostrar la solución\n",
        "print(f\"Solución para el sistema b): x1 = {sol_b[0]}, x2 = {sol_b[1]}, x3 = {sol_b[2]}\")\n",
        "\n"
      ],
      "metadata": {
        "colab": {
          "base_uri": "https://localhost:8080/"
        },
        "id": "eBF73D-edDKU",
        "outputId": "483517ca-c863-4b37-9f08-4958ada14793"
      },
      "execution_count": 7,
      "outputs": [
        {
          "output_type": "stream",
          "name": "stdout",
          "text": [
            "Solución para el sistema b): x1 = 1.6666645221814995, x2 = -0.6666645221814995, x3 = 1.3333354778185005\n"
          ]
        }
      ]
    }
  ]
}