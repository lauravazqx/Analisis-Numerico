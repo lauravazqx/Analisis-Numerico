{
  "nbformat": 4,
  "nbformat_minor": 0,
  "metadata": {
    "colab": {
      "provenance": [],
      "authorship_tag": "ABX9TyNxTlVzMB4noMLkHPC40acS",
      "include_colab_link": true
    },
    "kernelspec": {
      "name": "python3",
      "display_name": "Python 3"
    },
    "language_info": {
      "name": "python"
    }
  },
  "cells": [
    {
      "cell_type": "markdown",
      "metadata": {
        "id": "view-in-github",
        "colab_type": "text"
      },
      "source": [
        "<a href=\"https://colab.research.google.com/github/lauravazqx/Analisis-Numerico/blob/main/Proyecto1.ipynb\" target=\"_parent\"><img src=\"https://colab.research.google.com/assets/colab-badge.svg\" alt=\"Open In Colab\"/></a>"
      ]
    },
    {
      "cell_type": "markdown",
      "source": [
        "# Proyecto 1.\n",
        "## Ejercicio 1: Con la estructura de datos *list* realice los siguientes programas:\n",
        "\n",
        "\n",
        "* Programe la multiplicación de matrices, recuerde que no necesariamente tienen\n",
        "por qué ser cuadradas, por lo que deberá validar que se pueda realizar la multiplicación.\n",
        "\n",
        "\n"
      ],
      "metadata": {
        "id": "87IOo5k4JTG9"
      }
    },
    {
      "cell_type": "code",
      "source": [
        "def MultMat(A, B):\n",
        "    # Validar que la multiplicación sea posible\n",
        "    if len(A[0]) != len(B):\n",
        "        raise ValueError(\"El número de columnas de la primera matriz debe ser igual al número de filas de la segunda matriz.\")\n",
        "\n",
        "    # Dimensiones de la matriz resultante\n",
        "    filas_A = len(A)\n",
        "    columnas_B = len(B[0])\n",
        "\n",
        "    # Crear la matriz resultante llena de ceros\n",
        "    resultado = [[0 for _ in range(columnas_B)] for _ in range(filas_A)]\n",
        "\n",
        "    # Realizar la multiplicación de matrices\n",
        "    for i in range(filas_A):\n",
        "        for j in range(columnas_B):\n",
        "            for k in range(len(B)):\n",
        "                resultado[i][j] += A[i][k] * B[k][j]\n",
        "\n",
        "    return resultado\n",
        "\n",
        "\n"
      ],
      "metadata": {
        "id": "gtMH52ZOKIkH"
      },
      "execution_count": 1,
      "outputs": []
    },
    {
      "cell_type": "code",
      "source": [
        "# Ejemplo:\n",
        "A = [\n",
        "    [1, 2, 3],\n",
        "    [4, 5, 6]\n",
        "]\n",
        "\n",
        "B = [\n",
        "    [7, 8],\n",
        "    [9, 10],\n",
        "    [11, 12]\n",
        "]\n",
        "\n",
        "try:\n",
        "    resultado = MultMat(A, B)\n",
        "    print(\"El resultado de la multiplicación de matrices es:\")\n",
        "    for fila in resultado:\n",
        "        print(fila)\n",
        "except ValueError as e:\n",
        "    print(e)"
      ],
      "metadata": {
        "colab": {
          "base_uri": "https://localhost:8080/"
        },
        "id": "_v1MkyN2LMvY",
        "outputId": "e9f64715-4297-4614-ba9c-b4a9657c7b7c"
      },
      "execution_count": 3,
      "outputs": [
        {
          "output_type": "stream",
          "name": "stdout",
          "text": [
            "El resultado de la multiplicación de matrices es:\n",
            "[58, 64]\n",
            "[139, 154]\n"
          ]
        }
      ]
    }
  ]
}