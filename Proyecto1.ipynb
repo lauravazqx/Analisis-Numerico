{
  "nbformat": 4,
  "nbformat_minor": 0,
  "metadata": {
    "colab": {
      "provenance": [],
      "authorship_tag": "ABX9TyO4pOgUqMvrQ2aJH0oi9X1m",
      "include_colab_link": true
    },
    "kernelspec": {
      "name": "python3",
      "display_name": "Python 3"
    },
    "language_info": {
      "name": "python"
    }
  },
  "cells": [
    {
      "cell_type": "markdown",
      "metadata": {
        "id": "view-in-github",
        "colab_type": "text"
      },
      "source": [
        "<a href=\"https://colab.research.google.com/github/lauravazqx/Analisis-Numerico/blob/main/Proyecto1.ipynb\" target=\"_parent\"><img src=\"https://colab.research.google.com/assets/colab-badge.svg\" alt=\"Open In Colab\"/></a>"
      ]
    },
    {
      "cell_type": "markdown",
      "source": [
        "# Proyecto 1.\n",
        "\n",
        "*   Galicia Luna Luis\n",
        "*   Salvador Vázquez Laura Teresa\n",
        "\n",
        "\n",
        "## Ejercicio 1: Con la estructura de datos *list* realice los siguientes programas:\n",
        "\n",
        "\n",
        "* Programe la multiplicación de matrices, recuerde que no necesariamente tienen\n",
        "por qué ser cuadradas, por lo que deberá validar que se pueda realizar la multiplicación.\n",
        "\n",
        "\n"
      ],
      "metadata": {
        "id": "87IOo5k4JTG9"
      }
    },
    {
      "cell_type": "code",
      "source": [
        "def multiplicar_matrices(A, B):\n",
        "    #Verificar si la multiplicacion es posible\n",
        "    if len(A[0]) != len(B):\n",
        "        raise ValueError(\"Las matrices no se pueden multiplicar\")\n",
        "\n",
        "    #Crear una matriz resultado inicializada con ceros\n",
        "    resultado = [[0 for _ in range(len(B[0]))] for _ in range(len(A))]\n",
        "\n",
        "    #Realizar la multiplicacion\n",
        "    for i in range(len(A)):\n",
        "        for j in range(len(B[0])):\n",
        "            for k in range(len(B)):\n",
        "                resultado[i][j] += A[i][k] * B[k][j]\n",
        "\n",
        "    return resultado\n"
      ],
      "metadata": {
        "id": "gtMH52ZOKIkH"
      },
      "execution_count": 1,
      "outputs": []
    },
    {
      "cell_type": "code",
      "source": [
        "#Prueba 1: Multiplicacion de matrices\n",
        "A = [[1, 2], [3, 4]]\n",
        "B = [[5, 6], [7, 8]]\n",
        "resultado_multiplicacion = multiplicar_matrices(A, B)\n",
        "\n",
        "print(\"Resultado de la multiplicacion de matrices A*B:\")\n",
        "for fila in resultado_multiplicacion:\n",
        "    print(fila)"
      ],
      "metadata": {
        "id": "IXzaCOh3SqHF",
        "colab": {
          "base_uri": "https://localhost:8080/"
        },
        "outputId": "7cc401a6-fc2b-4ce8-9f55-cf0ec289960f"
      },
      "execution_count": 8,
      "outputs": [
        {
          "output_type": "stream",
          "name": "stdout",
          "text": [
            "Resultado de la multiplicacion de matrices A*B:\n",
            "[19, 22]\n",
            "[43, 50]\n"
          ]
        }
      ]
    },
    {
      "cell_type": "markdown",
      "source": [
        "\n",
        "\n",
        "*   Programe la multiplicación de matrices por bloques.\n",
        "\n",
        "\n"
      ],
      "metadata": {
        "id": "NLCQckZiM0Wn"
      }
    },
    {
      "cell_type": "code",
      "source": [
        "def multiplicacion_bloques(A, B, block_size):\n",
        "    n = len(A)  #se asume que A y B son matrices cuadradas de tamaño n x n\n",
        "    C = [[0 for _ in range(n)] for _ in range(n)]  #Inicia la matriz resultado C\n",
        "\n",
        "    #bloques de tamaño block_size\n",
        "    for i in range(0, n, block_size):\n",
        "        for j in range(0, n, block_size):\n",
        "            for k in range(0, n, block_size):\n",
        "\n",
        "                #Los bucles internos realizan la multiplicación de los bloques\n",
        "                for ii in range(i, min(i + block_size, n)):\n",
        "                    for jj in range(j, min(j + block_size, n)):\n",
        "                        for kk in range(k, min(k + block_size, n)):\n",
        "                            #Multiplica y suma\n",
        "                            C[ii][jj] += A[ii][kk] * B[kk][jj]\n",
        "\n",
        "    return C\n",
        "\n"
      ],
      "metadata": {
        "id": "mWi4Z8DTc3i7"
      },
      "execution_count": 2,
      "outputs": []
    },
    {
      "cell_type": "code",
      "source": [
        "#Prueba 2: Multiplicacion de matrices por bloques (bloque de 1x1)\n",
        "resultado_multiplicacion_bloques = multiplicacion_bloques(A, B, 1)\n",
        "\n",
        "print(\"\\nResultado de la multiplicacion de matrices por bloques (1x1):\")\n",
        "for fila in resultado_multiplicacion_bloques:\n",
        "    print(fila)"
      ],
      "metadata": {
        "id": "xxoBan4QSyJ_",
        "colab": {
          "base_uri": "https://localhost:8080/"
        },
        "outputId": "2c9891e9-ffea-44fc-e3e6-22379f0ce6d1"
      },
      "execution_count": 9,
      "outputs": [
        {
          "output_type": "stream",
          "name": "stdout",
          "text": [
            "\n",
            "Resultado de la multiplicacion de matrices por bloques (1x1):\n",
            "[19, 22]\n",
            "[43, 50]\n"
          ]
        }
      ]
    },
    {
      "cell_type": "markdown",
      "source": [
        "\n",
        "\n",
        "*   Haga un programa que realice la transpuesta de una matriz.\n",
        "\n"
      ],
      "metadata": {
        "id": "fkUWHKzDFfFG"
      }
    },
    {
      "cell_type": "code",
      "source": [
        "def transponer_matriz(A):\n",
        "    return [[A[j][i] for j in range(len(A))] for i in range(len(A[0]))]"
      ],
      "metadata": {
        "id": "N21ZQVkCFqvC"
      },
      "execution_count": 3,
      "outputs": []
    },
    {
      "cell_type": "code",
      "source": [
        "#Prueba 3: Transpuesta de una matriz\n",
        "transpuesta = transponer_matriz(A)\n",
        "\n",
        "print(\"\\nTranspuesta de la matriz A:\")\n",
        "for fila in transpuesta:\n",
        "    print(fila)"
      ],
      "metadata": {
        "id": "6QqFcAwJFsdi",
        "colab": {
          "base_uri": "https://localhost:8080/"
        },
        "outputId": "0170fe41-ef71-48dd-e772-288aa9eda6b9"
      },
      "execution_count": 10,
      "outputs": [
        {
          "output_type": "stream",
          "name": "stdout",
          "text": [
            "\n",
            "Transpuesta de la matriz A:\n",
            "[1, 3]\n",
            "[2, 4]\n"
          ]
        }
      ]
    },
    {
      "cell_type": "markdown",
      "source": [
        "\n",
        "\n",
        "*   Haga un programa que realice la potencia de una matriz.\n",
        "\n"
      ],
      "metadata": {
        "id": "cZO2r_jiFrv9"
      }
    },
    {
      "cell_type": "code",
      "source": [
        "def potencia_matriz(A, n):\n",
        "    \"\"\"\n",
        "    - Se utiliza la matriz identidad como punto de partida para la realizar la potencia.\n",
        "    - Si n es 0, el resultado es la matriz identidad.\n",
        "    - Se asume que A es una matriz cuadrada (el número de filas es igual al número de columnas).\n",
        "    \"\"\"\n",
        "\n",
        "    # Verifica que la matriz A sea cuadrada\n",
        "    if len(A) != len(A[0]):\n",
        "        raise ValueError(\"La matriz debe ser cuadrada.\")\n",
        "\n",
        "    # Inicializa el resultado como la matriz identidad del mismo tamaño que A\n",
        "    # La matriz identidad tiene 1's en la diagonal principal y 0's en las demás posiciones\n",
        "    resultado = [[1 if i == j else 0 for j in range(len(A))] for i in range(len(A))]\n",
        "\n",
        "    # Calcula la potencia de la matriz A multiplicando repetidamente el resultado por A\n",
        "    for _ in range(n):\n",
        "        resultado = multiplicar_matrices(resultado, A)\n",
        "\n",
        "    # Retorna la matriz resultado, que es A elevado a la potencia n\n",
        "    return resultado\n"
      ],
      "metadata": {
        "id": "0P-SXWyAFrVy"
      },
      "execution_count": 20,
      "outputs": []
    },
    {
      "cell_type": "code",
      "source": [
        "#Prueba 4: Potencia de una matriz\n",
        "A = [[3, 2],\n",
        "    [1, 3]]\n",
        "n = 5  # Potencia a la que quieres elevar la matriz\n",
        "\n",
        "resultado = potencia_matriz(A, n)\n",
        "print(\"Resultado de A^{}:\".format(n))\n",
        "for fila in resultado:\n",
        "    print(fila)"
      ],
      "metadata": {
        "id": "TeWX_miuF5A4",
        "colab": {
          "base_uri": "https://localhost:8080/"
        },
        "outputId": "0844a5fe-6419-4d64-b587-e70c7ffc78b7"
      },
      "execution_count": 21,
      "outputs": [
        {
          "output_type": "stream",
          "name": "stdout",
          "text": [
            "Resultado de A^5:\n",
            "[843, 1178]\n",
            "[589, 843]\n"
          ]
        }
      ]
    },
    {
      "cell_type": "markdown",
      "source": [
        "\n",
        "\n",
        "*   Desarrollar un programa que calcule el producto cruz entre dos vectores tridimensionales.\n",
        "\n"
      ],
      "metadata": {
        "id": "YAbXCcgSF3sM"
      }
    },
    {
      "cell_type": "code",
      "source": [
        "def ProductoCruz(v1, v2):\n",
        "    \"\"\"\n",
        "    Calcula el producto cruz entre dos vectores tridimensionales.\n",
        "\n",
        "    Parámetros:\n",
        "    v1 (list of float/int): Primer vector tridimensional, representado como una lista de 3 elementos.\n",
        "    v2 (list of float/int): Segundo vector tridimensional, representado como una lista de 3 elementos.\n",
        "\n",
        "    Retorna:\n",
        "    list of float/int: El vector resultante del producto cruz, también representado como una lista de 3 elementos.\n",
        "\n",
        "    Excepciones:\n",
        "    ValueError: Si los vectores no son tridimensionales.\n",
        "    \"\"\"\n",
        "\n",
        "    # Verifica que ambos vectores tengan 3 componentes\n",
        "    if len(v1) != 3 or len(v2) != 3:\n",
        "        raise ValueError(\"Ambos vectores deben ser tridimensionales (tener 3 componentes).\")\n",
        "\n",
        "    # Cálculo del producto cruz\n",
        "    cruz =  [v1[1] * v2[2] - v1[2] * v2[1],  # Componente en x\n",
        "             v1[2] * v2[0] - v1[0] * v2[2],  # Componente en y\n",
        "             v1[0] * v2[1] - v1[1] * v2[0]]  # Componente en z\n",
        "\n",
        "    return cruz\n"
      ],
      "metadata": {
        "id": "Dvm0Gp0CF3Cd"
      },
      "execution_count": 25,
      "outputs": []
    },
    {
      "cell_type": "code",
      "source": [
        "#Prueba 5: Producto cruz entre dos vectores tridimensionales\n",
        "v1 = [2, 7, 3]\n",
        "v2 = [6, 9, 1]\n",
        "\n",
        "resultado = ProductoCruz(v1, v2)\n",
        "\n",
        "print(\"El producto cruz entre v1 y v2 es:\", resultado)"
      ],
      "metadata": {
        "id": "LVzHcsVUGGT3",
        "colab": {
          "base_uri": "https://localhost:8080/"
        },
        "outputId": "78e96a8b-9862-4c41-c636-ef8ce6650bfb"
      },
      "execution_count": 26,
      "outputs": [
        {
          "output_type": "stream",
          "name": "stdout",
          "text": [
            "El producto cruz entre v1 y v2 es: [-20, 16, -24]\n"
          ]
        }
      ]
    },
    {
      "cell_type": "markdown",
      "source": [
        "\n",
        "\n",
        "*   Crear un programa que aplique una rotación de un vector bidimensional mediante una matriz de rotación.\n",
        "\n"
      ],
      "metadata": {
        "id": "YCotHke7GHWt"
      }
    },
    {
      "cell_type": "code",
      "source": [
        "import math\n",
        "import numpy as np\n",
        "\n",
        "def rotar_vector_2D(v, angulo):\n",
        "    #Matriz de rotacion\n",
        "    cos_theta = math.cos(angulo)\n",
        "    sin_theta = math.sin(angulo)\n",
        "    matriz_rotacion = [[cos_theta, -sin_theta], [sin_theta, cos_theta]]\n",
        "\n",
        "    #Aplicar la rotacion\n",
        "    x = matriz_rotacion[0][0] * v[0] + matriz_rotacion[0][1] * v[1]\n",
        "    y = matriz_rotacion[1][0] * v[0] + matriz_rotacion[1][1] * v[1]\n",
        "\n",
        "    return [x, y]\n"
      ],
      "metadata": {
        "id": "_P2xgAeEGW-j"
      },
      "execution_count": 4,
      "outputs": []
    },
    {
      "cell_type": "code",
      "source": [
        "#Prueba 6: Rotacion de un vector 2D\n",
        "v2D = [1, 0]\n",
        "angulo = math.pi / 4  #45 grados\n",
        "vector_rotado_2D = rotar_vector_2D(v2D, angulo)\n",
        "\n",
        "print(f\"\\nVector 2D original: {v2D}\")\n",
        "print(f\"Vector 2D rotado 45 grados: {vector_rotado_2D}\")"
      ],
      "metadata": {
        "id": "cL474dqJGYJl",
        "colab": {
          "base_uri": "https://localhost:8080/"
        },
        "outputId": "0038fc35-3c57-49b4-ef45-8d7f59ce6717"
      },
      "execution_count": 11,
      "outputs": [
        {
          "output_type": "stream",
          "name": "stdout",
          "text": [
            "\n",
            "Vector 2D original: [1, 0]\n",
            "Vector 2D rotado 45 grados: [0.7071067811865476, 0.7071067811865475]\n"
          ]
        }
      ]
    },
    {
      "cell_type": "markdown",
      "source": [
        "\n",
        "\n",
        "*   Crear un programa que aplique una rotación de un vector tridimensional mediante una matriz de rotación.\n",
        "\n"
      ],
      "metadata": {
        "id": "Pv-0gDMkGZJY"
      }
    },
    {
      "cell_type": "code",
      "source": [
        "def rotar_vector_3D(v, angulo, eje):\n",
        "    #Matrices de rotacion para cada eje\n",
        "    if eje == 'x':\n",
        "        matriz_rotacion = np.array([[1, 0, 0],\n",
        "                                    [0, np.cos(angulo), -np.sin(angulo)],\n",
        "                                    [0, np.sin(angulo), np.cos(angulo)]])\n",
        "    elif eje == 'y':\n",
        "        matriz_rotacion = np.array([[np.cos(angulo), 0, np.sin(angulo)],\n",
        "                                    [0, 1, 0],\n",
        "                                    [-np.sin(angulo), 0, np.cos(angulo)]])\n",
        "    elif eje == 'z':\n",
        "        matriz_rotacion = np.array([[np.cos(angulo), -np.sin(angulo), 0],\n",
        "                                    [np.sin(angulo), np.cos(angulo), 0],\n",
        "                                    [0, 0, 1]])\n",
        "    else:\n",
        "        raise ValueError(\"es eje no es valido Debe ser x, y o z\")\n",
        "\n",
        "    return np.dot(matriz_rotacion, v)"
      ],
      "metadata": {
        "id": "vJJUfIYtGpcP"
      },
      "execution_count": 5,
      "outputs": []
    },
    {
      "cell_type": "code",
      "source": [
        "#Prueba 7: Rotacion de un vector 3D alrededor del eje Z\n",
        "v3D = [1, 0, 0]\n",
        "vector_rotado_3D = rotar_vector_3D(v3D, angulo, 'z')\n",
        "\n",
        "print(f\"\\nVector 3D original: {v3D}\")\n",
        "print(f\"Vector 3D rotado 45 grados alrededor del eje Z: {vector_rotado_3D}\")"
      ],
      "metadata": {
        "id": "X9tnUtU-GqUx",
        "colab": {
          "base_uri": "https://localhost:8080/"
        },
        "outputId": "d9d40ae8-ce44-42e5-ce38-fc6a11b0c657"
      },
      "execution_count": 12,
      "outputs": [
        {
          "output_type": "stream",
          "name": "stdout",
          "text": [
            "\n",
            "Vector 3D original: [1, 0, 0]\n",
            "Vector 3D rotado 45 grados alrededor del eje Z: [0.70710678 0.70710678 0.        ]\n"
          ]
        }
      ]
    },
    {
      "cell_type": "markdown",
      "source": [
        "\n",
        "\n",
        "*   Calcule la norma 1,\n",
        "\n",
        "$\n",
        "||A||_1 = \\max_{1 \\leq j \\leq n} \\sum_{i=1}^{m} |a_{ij}|\n",
        "$\n",
        "\n",
        "\n"
      ],
      "metadata": {
        "id": "gAAaWBJxGrPD"
      }
    },
    {
      "cell_type": "code",
      "source": [
        "def Norma_1(A):\n",
        "    \"\"\"\n",
        "    Calcula la norma 1 de una matriz A.\n",
        "\n",
        "    La norma 1 es el máximo de la suma de los valores absolutos de los elementos\n",
        "    en cada columna de la matriz.\n",
        "\n",
        "    Parámetros:\n",
        "    A (list of list of float/int): La matriz para la que se quiere calcular la norma 1.\n",
        "\n",
        "    Retorna:\n",
        "    float: El valor de la norma 1 de la matriz A.\n",
        "\n",
        "    Excepciones:\n",
        "    ValueError: Si la matriz está vacía o las filas tienen longitudes diferentes.\n",
        "    \"\"\"\n",
        "\n",
        "    # Verifica si la matriz está vacía\n",
        "    if len(A) == 0 or len(A[0]) == 0:\n",
        "        raise ValueError(\"La matriz no debe estar vacía.\")\n",
        "\n",
        "    # Verifica que todas las filas tengan la misma longitud\n",
        "    n_columnas = len(A[0])\n",
        "    if not all(len(fila) == n_columnas for fila in A):\n",
        "        raise ValueError(\"Todas las filas deben tener la misma longitud.\")\n",
        "\n",
        "    # Calcula la norma 1 (máxima suma de valores absolutos de cada columna)\n",
        "    max_suma_columnas = max(\n",
        "        sum(abs(A[i][j]) for i in range(len(A))) for j in range(n_columnas)\n",
        "    )\n",
        "\n",
        "    return max_suma_columnas\n",
        "\n",
        "\n",
        "\n"
      ],
      "metadata": {
        "id": "erV0eBTWHO0J"
      },
      "execution_count": 34,
      "outputs": []
    },
    {
      "cell_type": "code",
      "source": [
        "#Prueba 8: Calcule la norma 1\n",
        "A = [[1, 3, 4], [9, 8, 6], [7, -5, 0]]\n",
        "\n",
        "resultado = Norma_1(A)\n",
        "print(\"La norma 1 de la matriz A es:\", resultado)"
      ],
      "metadata": {
        "id": "CADTJ0gDHPnI",
        "colab": {
          "base_uri": "https://localhost:8080/"
        },
        "outputId": "24174eab-aaac-4c9d-df71-71a7fbe4e9e7"
      },
      "execution_count": 38,
      "outputs": [
        {
          "output_type": "stream",
          "name": "stdout",
          "text": [
            "La norma 1 de la matriz A es: 17\n"
          ]
        }
      ]
    },
    {
      "cell_type": "markdown",
      "source": [
        "\n",
        "\n",
        "*   Calcule la norma infinito,\n",
        "\n",
        "$\n",
        "||A||_{\\infty} = \\max_{1 \\leq i \\leq m} \\sum_{j=1}^{n} |a_{ij}|\n",
        "$\n",
        "\n",
        "\n"
      ],
      "metadata": {
        "id": "QF3MSJCAHQqI"
      }
    },
    {
      "cell_type": "code",
      "source": [
        "def NormaInfinito(A):\n",
        "    \"\"\"\n",
        "    Calcula la norma infinito de una matriz A.\n",
        "\n",
        "    La norma infinito se define como el máximo de la suma de los valores absolutos de los elementos\n",
        "    en cada fila de la matriz.\n",
        "\n",
        "    Parámetros:\n",
        "    A (list of list of float/int): La matriz para la que se quiere calcular la norma infinito.\n",
        "\n",
        "    Retorna:\n",
        "    float: El valor de la norma infinito de la matriz A.\n",
        "\n",
        "    Excepciones:\n",
        "    ValueError: Si la matriz está vacía o las filas tienen longitudes diferentes.\n",
        "    \"\"\"\n",
        "\n",
        "    # Verifica si la matriz está vacía\n",
        "    if len(A) == 0 or len(A[0]) == 0:\n",
        "        raise ValueError(\"La matriz no debe estar vacía.\")\n",
        "\n",
        "    # Verifica que todas las filas tengan la misma longitud\n",
        "    if not all(len(fila) == len(A[0]) for fila in A):\n",
        "        raise ValueError(\"Todas las filas deben tener la misma longitud.\")\n",
        "\n",
        "    # Calcula la norma infinito\n",
        "    max_suma_filas = max(sum(abs(aij) for aij in fila) for fila in A)\n",
        "\n",
        "    return max_suma_filas\n",
        "\n",
        "\n"
      ],
      "metadata": {
        "id": "UWb6HdyqHw9d"
      },
      "execution_count": 27,
      "outputs": []
    },
    {
      "cell_type": "code",
      "source": [
        "#Prueba 9: Calcule la norma infinito\n",
        "A = [[2, -4, 7],\n",
        "    [-3, 5, -1],\n",
        "    [6, -8, 1]]\n",
        "\n",
        "resultado = NormaInfinito(A)\n",
        "print(\"La norma infinito de la matriz A es:\", resultado)"
      ],
      "metadata": {
        "id": "ER-pgmsNHxuC",
        "colab": {
          "base_uri": "https://localhost:8080/"
        },
        "outputId": "0b49b90f-6f09-4650-91ad-ca4236b89f44"
      },
      "execution_count": 29,
      "outputs": [
        {
          "output_type": "stream",
          "name": "stdout",
          "text": [
            "La norma infinito de la matriz A es: 15\n"
          ]
        }
      ]
    },
    {
      "cell_type": "markdown",
      "source": [
        "\n",
        "\n",
        "*   Calcule la norma 2,\n",
        "\n",
        "$\n",
        "||A||_2 = \\sqrt{\\sum_{j=1}^{n} a_{ij}^2}\n",
        "$\n",
        "\n",
        "\n"
      ],
      "metadata": {
        "id": "DOMeSBsUHyXG"
      }
    },
    {
      "cell_type": "code",
      "source": [
        "import math\n",
        "\n",
        "def norma_2(A):\n",
        "    \"\"\"\n",
        "    Calcula la norma 2 (norma Euclidiana) de cada fila de la matriz A.\n",
        "\n",
        "    La norma 2 de una fila es la raíz cuadrada de la suma de los cuadrados\n",
        "    de los elementos en esa fila.\n",
        "\n",
        "    Parámetros:\n",
        "    A (list of list of float/int): La matriz para la que se quieren calcular las normas 2 de las filas.\n",
        "\n",
        "    Retorna:\n",
        "    list of float: Una lista con la norma 2 de cada fila de la matriz A.\n",
        "\n",
        "    Excepciones:\n",
        "    ValueError: Si la matriz está vacía o las filas tienen longitudes diferentes.\n",
        "    \"\"\"\n",
        "\n",
        "    # Verifica si la matriz está vacía\n",
        "    if len(A) == 0 or len(A[0]) == 0:\n",
        "        raise ValueError(\"La matriz no debe estar vacía.\")\n",
        "\n",
        "    # Verifica que todas las filas tengan la misma longitud\n",
        "    if not all(len(fila) == len(A[0]) for fila in A):\n",
        "        raise ValueError(\"Todas las filas deben tener la misma longitud.\")\n",
        "\n",
        "    # Calcula la norma 2 para cada fila\n",
        "    normas_2 = []\n",
        "    for fila in A:\n",
        "        norma_2 = math.sqrt(sum(aij ** 2 for aij in fila))  # Suma de los cuadrados y luego raíz cuadrada\n",
        "        normas_2.append(norma_2)\n",
        "\n",
        "    return normas_2\n",
        "\"\"\"\n",
        "La función recibe una matriz 𝐴 y calcula la norma 2 de cada una de sus filas.\n",
        "Primero, verifica que la matriz no esté vacía y que todas las filas tengan la misma longitud.\n",
        "Luego, para cada fila, calcula la suma de los cuadrados de sus elementos y después toma la raíz cuadrada de esa suma, lo que corresponde a la norma 2.\n",
        "Finalmente, devuelve una lista con las normas 2 de todas las filas.\n",
        "\"\"\"\n"
      ],
      "metadata": {
        "id": "xVUVNNL-IFEJ"
      },
      "execution_count": 39,
      "outputs": []
    },
    {
      "cell_type": "code",
      "source": [
        "#Prueba 2: Calcule la norma 2\n",
        "A = [[0, 3, 7], [-5, -9, 4], [2, -7, 9]]\n",
        "\n",
        "resultado = norma_2(A)\n",
        "print(\"La norma 2 de cada fila de la matriz A es:\", resultado)"
      ],
      "metadata": {
        "id": "GARji6AeIGET",
        "colab": {
          "base_uri": "https://localhost:8080/"
        },
        "outputId": "48a4129b-eb92-4a18-dac2-d77df0a5ca63"
      },
      "execution_count": 41,
      "outputs": [
        {
          "output_type": "stream",
          "name": "stdout",
          "text": [
            "La norma 2 de cada fila de la matriz A es: [7.615773105863909, 11.045361017187261, 11.575836902790225]\n"
          ]
        }
      ]
    },
    {
      "cell_type": "markdown",
      "source": [
        "## Ejercicio 2: con la estructura de datos *array* realice los siguientes programas:\n",
        "\n",
        "\n",
        "\n",
        "*   Realice un programa que resuelva un sistema de dos bandas, considere\n",
        "que una de las bandas puede ser la diagonal superior o inferior, pero la\n",
        "principal siempre está presente, por lo que su programa debe ser capaz\n",
        "de resolver ambos casos.\n",
        "\n"
      ],
      "metadata": {
        "id": "hsT2uRRpIG58"
      }
    },
    {
      "cell_type": "code",
      "source": [
        "import numpy as np\n",
        "\n",
        "def resolver_sistema_dos_bandas(A, b, banda='superior'):\n",
        "    \"\"\"\n",
        "    Resuelve un sistema de ecuaciones lineales Ax = b para una matriz A de dos bandas.\n",
        "\n",
        "    Parámetros:\n",
        "    A (np.array): Matriz cuadrada de dos bandas de tamaño (n, n). Tiene la diagonal principal y una diagonal adicional\n",
        "                  que puede estar por encima o por debajo de la principal.\n",
        "    b (np.array): Vector del lado derecho de tamaño (n,).\n",
        "    banda (str): Indica si la banda adicional está por encima ('superior') o por debajo ('inferior') de la diagonal principal.\n",
        "                 Valor por defecto es 'superior'.\n",
        "\n",
        "    Retorna:\n",
        "    np.array: Solución del sistema de ecuaciones x, tal que Ax = b.\n",
        "\n",
        "    Excepciones:\n",
        "    ValueError: Si el parámetro 'banda' es inválido o si hay un cero en la diagonal principal.\n",
        "    \"\"\"\n",
        "\n",
        "    n = len(b)  # Longitud del vector (también es el tamaño de la matriz A)\n",
        "    x = np.zeros_like(b, dtype=float)  # Vector solución inicializado en ceros (float)\n",
        "\n",
        "    # Verifica si hay ceros en la diagonal principal\n",
        "    if np.any(np.diag(A) == 0):\n",
        "        raise ValueError(\"La matriz contiene un cero en la diagonal principal, lo que impide la resolución del sistema.\")\n",
        "\n",
        "    if banda == 'superior':\n",
        "        # Algoritmo de eliminación hacia atrás para matriz con banda superior\n",
        "        for i in range(n - 1, -1, -1):\n",
        "            if i < n - 1:\n",
        "                b[i] -= A[i, i + 1] * x[i + 1]  # Resta el término de la banda superior\n",
        "            x[i] = b[i] / A[i, i]  # División por la diagonal principal\n",
        "    elif banda == 'inferior':\n",
        "        # Algoritmo de sustitución hacia adelante para matriz con banda inferior\n",
        "        for i in range(n):\n",
        "            if i > 0:\n",
        "                b[i] -= A[i, i - 1] * x[i - 1]  # Resta el término de la banda inferior\n",
        "            x[i] = b[i] / A[i, i]  # División por la diagonal principal\n",
        "    else:\n",
        "        raise ValueError(\"El parámetro 'banda' debe ser 'superior' o 'inferior'.\")\n",
        "\n",
        "    return x\n",
        "\n",
        "\n",
        "\n",
        "\n"
      ],
      "metadata": {
        "id": "IHtp-EF8LjKK"
      },
      "execution_count": 46,
      "outputs": []
    },
    {
      "cell_type": "code",
      "source": [
        "#Prueba 1: Calcule el sistema de dos bandas\n",
        "# Matriz A con banda superior\n",
        "A_superior = np.array([\n",
        "    [2.0, -1.0, 0.0],\n",
        "    [0.0, 1.0, -2.0],\n",
        "    [0.0, 0.0, 2.0]])\n",
        "\n",
        "\n",
        "# Matriz A con banda inferior\n",
        "A_inferior = np.array([\n",
        "    [4.0, 0.0, 0.0],\n",
        "    [-1.0, 9.0, 0.0],\n",
        "    [8.0, -2.0, 2.0]])\n",
        "\n",
        "\n",
        "# Vector del lado derecho\n",
        "b = np.array([3.0, 5.0, -4.0])\n",
        "\n",
        "# Resolviendo para la matriz con banda superior\n",
        "try:\n",
        "    x_superior = resolver_sistema_dos_bandas(A_superior, b.copy(), banda='superior')\n",
        "    print(\"Solución para la banda superior:\", x_superior)\n",
        "except ValueError as e:\n",
        "    print(\"Error:\", e)\n",
        "\n",
        "# Resolviendo para la matriz con banda inferior\n",
        "try:\n",
        "    x_inferior = resolver_sistema_dos_bandas(A_inferior, b.copy(), banda='inferior')\n",
        "    print(\"Solución para la banda inferior:\", x_inferior)\n",
        "except ValueError as e:\n",
        "    print(\"Error:\", e)\n"
      ],
      "metadata": {
        "id": "NFHZ5J9KLjuf",
        "colab": {
          "base_uri": "https://localhost:8080/"
        },
        "outputId": "26e2a178-9632-46ea-a379-16c7aebed43c"
      },
      "execution_count": 48,
      "outputs": [
        {
          "output_type": "stream",
          "name": "stdout",
          "text": [
            "Solución para la banda superior: [ 2.  1. -2.]\n",
            "Solución para la banda inferior: [ 0.75        0.63888889 -1.36111111]\n"
          ]
        }
      ]
    },
    {
      "cell_type": "markdown",
      "source": [
        "\n",
        "\n",
        "*   Modifique el algoritmo de Thomas, de manera que en lugar de resolver\n",
        "el sistema con una sustitución hacia atrás, se haga una sustitución hacia\n",
        "delante.\n",
        "\n"
      ],
      "metadata": {
        "id": "nsvbyKg2LktG"
      }
    },
    {
      "cell_type": "code",
      "source": [
        "import numpy as np\n",
        "def resolver_sistema_dos_bandas(A, b):\n",
        "    n = len(b)\n",
        "    x = np.zeros_like(b)\n",
        "\n",
        "    #Eliminacion hacia adelante como algoritmo de Thomas\n",
        "    for i in range(1, n):\n",
        "        factor = A[i][i-1] / A[i-1][i-1]\n",
        "        A[i][i] -= factor * A[i-1][i]\n",
        "        b[i] -= factor * b[i-1]\n",
        "\n",
        "    #Sust hacia atras\n",
        "    x[-1] = b[-1] / A[-1][-1]\n",
        "    for i in range(n-2, -1, -1):\n",
        "        x[i] = (b[i] - A[i][i+1] * x[i+1]) / A[i][i]\n",
        "\n",
        "    return x\n",
        "\n",
        "#matriz tridiagonal\n",
        "A = np.array([[2, -1, 0], [-1, 2, -1], [0, -1, 2]], dtype=float)\n",
        "b = np.array([1, 0, 1], dtype=float)\n",
        "\n",
        "#Se resuelve el sistema\n",
        "solucion = resolver_sistema_dos_bandas(A.copy(), b.copy())\n",
        "\n",
        "\n"
      ],
      "metadata": {
        "id": "4UnrXO9aLubl"
      },
      "execution_count": 50,
      "outputs": []
    },
    {
      "cell_type": "code",
      "source": [
        "print(\"Sistema de ecuaciones:\")\n",
        "print(\"Matriz A:\")\n",
        "print(A)\n",
        "print(\"Vector b:\")\n",
        "print(b)\n",
        "\n",
        "print(\"\\nSolución del sistema (algoritmo de Thomas modificado):\")\n",
        "print(solucion)"
      ],
      "metadata": {
        "id": "0ySWz053Lu6J",
        "colab": {
          "base_uri": "https://localhost:8080/"
        },
        "outputId": "69b7d5ad-ddfc-412f-f5e0-6fbae377d7bc"
      },
      "execution_count": 51,
      "outputs": [
        {
          "output_type": "stream",
          "name": "stdout",
          "text": [
            "Sistema de ecuaciones:\n",
            "Matriz A:\n",
            "[[ 2. -1.  0.]\n",
            " [-1.  2. -1.]\n",
            " [ 0. -1.  2.]]\n",
            "Vector b:\n",
            "[1. 0. 1.]\n",
            "\n",
            "Solución del sistema (algoritmo de Thomas modificado):\n",
            "[1. 1. 1.]\n"
          ]
        }
      ]
    }
  ]
}