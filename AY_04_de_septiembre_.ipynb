{
  "nbformat": 4,
  "nbformat_minor": 0,
  "metadata": {
    "colab": {
      "provenance": [],
      "authorship_tag": "ABX9TyMYQ6WdAl51+L/Q2EidbeaV",
      "include_colab_link": true
    },
    "kernelspec": {
      "name": "python3",
      "display_name": "Python 3"
    },
    "language_info": {
      "name": "python"
    }
  },
  "cells": [
    {
      "cell_type": "markdown",
      "metadata": {
        "id": "view-in-github",
        "colab_type": "text"
      },
      "source": [
        "<a href=\"https://colab.research.google.com/github/lauravazqx/Analisis-Numerico/blob/main/AY_04_de_septiembre_.ipynb\" target=\"_parent\"><img src=\"https://colab.research.google.com/assets/colab-badge.svg\" alt=\"Open In Colab\"/></a>"
      ]
    },
    {
      "cell_type": "code",
      "execution_count": 1,
      "metadata": {
        "id": "uNQqoUtWGzuE"
      },
      "outputs": [],
      "source": [
        "import numpy as np\n"
      ]
    },
    {
      "cell_type": "markdown",
      "source": [
        "#Sub matriz"
      ],
      "metadata": {
        "id": "-TNc1UwcLVoH"
      }
    },
    {
      "cell_type": "code",
      "source": [
        "A=np.array([[2,3,-4],[0,-4,2],[3,4,-1]])"
      ],
      "metadata": {
        "id": "d8iwu3Q1JOQM"
      },
      "execution_count": 3,
      "outputs": []
    },
    {
      "cell_type": "code",
      "source": [
        "def SubMat(M):\n",
        "  M1=np.copy(M)\n",
        "  M1=np.delete(M1,row,axis=0) #elimina sobre los renglones con el axis=0\n",
        "  M1=np.delete(M1,col,axis=1) #elimina sobre los renglones\n",
        "  return M1\n"
      ],
      "metadata": {
        "id": "lTTSbzjuJOAU"
      },
      "execution_count": 4,
      "outputs": []
    },
    {
      "cell_type": "code",
      "source": [
        "def DET(M):\n",
        "  if len(M)==2:\n",
        "    return M[0][0]*M[1][1]-(M[0][1]*M[1][0])\n",
        "  else:\n",
        "    deter=0.0\n",
        "    for i in range(len(M)):\n",
        "      deter+=((-1)**i)*M[0][i]*DET(SubMat(M,0,i))\n",
        "      return deter"
      ],
      "metadata": {
        "id": "jSybdS_XJxmJ"
      },
      "execution_count": 5,
      "outputs": []
    },
    {
      "cell_type": "code",
      "source": [
        "#DET(A),LA.det(A)"
      ],
      "metadata": {
        "id": "Rye7aLKDMWVs"
      },
      "execution_count": 8,
      "outputs": []
    },
    {
      "cell_type": "code",
      "source": [
        "\"\"\"def CoFac(M):\n",
        "  M_CoFac=np.zeros_like(M)\n",
        "\n",
        "  for i in range(M.shape[0])\n",
        "    for j in raange(M.sape[1])\n",
        "      M_CoFac[i][j]=((-1))**(i+j)*DET(SubMat(M,i,j))\n",
        "  return M_CoFac\n",
        "  \"\"\""
      ],
      "metadata": {
        "colab": {
          "base_uri": "https://localhost:8080/",
          "height": 53
        },
        "id": "gTjr0KMZOASW",
        "outputId": "850fd9cd-bebd-4f08-f9cc-ed5839cf1a8b"
      },
      "execution_count": 10,
      "outputs": [
        {
          "output_type": "execute_result",
          "data": {
            "text/plain": [
              "'def CoFac(M):\\n  M_CoFac=np.zeros_like(M)\\n\\n  for i in range(M.shape[0])\\n    for j in raange(M.sape[1])\\n      M_CoFac[i][j]=((-1))**(i+j)*DET(SubMat(M,i,j))\\n  return M_CoFac\\n  '"
            ],
            "application/vnd.google.colaboratory.intrinsic+json": {
              "type": "string"
            }
          },
          "metadata": {},
          "execution_count": 10
        }
      ]
    }
  ]
}